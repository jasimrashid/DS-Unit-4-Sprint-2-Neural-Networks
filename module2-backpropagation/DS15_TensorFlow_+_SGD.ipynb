{
  "nbformat": 4,
  "nbformat_minor": 0,
  "metadata": {
    "colab": {
      "name": "DS15 TensorFlow + SGD.ipynb",
      "provenance": []
    },
    "kernelspec": {
      "name": "python3",
      "display_name": "Python 3"
    },
    "accelerator": "GPU"
  },
  "cells": [
    {
      "cell_type": "markdown",
      "metadata": {
        "id": "4g0FYrxpIDFD",
        "colab_type": "text"
      },
      "source": [
        "Goals\n",
        "* Introduce the TensorFlow Keras API \n",
        "* Show an example of training model\n",
        "* Discuss Gradient Descent during the process\n",
        "* Optional: Investigate the TensorFlow / Keras Code for Dense Layers."
      ]
    },
    {
      "cell_type": "code",
      "metadata": {
        "id": "7Smi_YYMISLl",
        "colab_type": "code",
        "colab": {}
      },
      "source": [
        "from tensorflow.keras.layers import Dense\n",
        "from tensorflow.keras.models import Sequential\n",
        "from tensorflow.keras.optimizers import SGD"
      ],
      "execution_count": 1,
      "outputs": []
    },
    {
      "cell_type": "markdown",
      "metadata": {
        "id": "faxPGV1tJ3Ct",
        "colab_type": "text"
      },
      "source": [
        "1. Import Tensorflow\n",
        "2. Define a model\n",
        "3. Compile the model\n",
        "4. Fit the Model \n",
        "5. Evaluate the model"
      ]
    },
    {
      "cell_type": "code",
      "metadata": {
        "id": "L1rEd_6XKFiR",
        "colab_type": "code",
        "colab": {}
      },
      "source": [
        "# 10 Categories Output\n",
        "\n",
        "model = Sequential([\n",
        "                    Dense(5, activation='sigmoid', input_dim=784),\n",
        "                    Dense(5, activation='sigmoid'), \n",
        "                    Dense(10, activation='softmax')\n",
        "])"
      ],
      "execution_count": 2,
      "outputs": []
    },
    {
      "cell_type": "code",
      "metadata": {
        "id": "UKEnO9QeK1Ak",
        "colab_type": "code",
        "colab": {}
      },
      "source": [
        "# Compile the model\n",
        "model.compile(optimizer=SGD(), loss='sparse_categorical_crossentropy', metrics=['accuracy'])"
      ],
      "execution_count": 3,
      "outputs": []
    },
    {
      "cell_type": "code",
      "metadata": {
        "id": "aWzrxItKLysi",
        "colab_type": "code",
        "colab": {
          "base_uri": "https://localhost:8080/",
          "height": 255
        },
        "outputId": "03c70b07-120f-4c3b-8174-12ec42eb34de"
      },
      "source": [
        "model.summary()"
      ],
      "execution_count": 4,
      "outputs": [
        {
          "output_type": "stream",
          "text": [
            "Model: \"sequential\"\n",
            "_________________________________________________________________\n",
            "Layer (type)                 Output Shape              Param #   \n",
            "=================================================================\n",
            "dense (Dense)                (None, 5)                 3925      \n",
            "_________________________________________________________________\n",
            "dense_1 (Dense)              (None, 5)                 30        \n",
            "_________________________________________________________________\n",
            "dense_2 (Dense)              (None, 10)                60        \n",
            "=================================================================\n",
            "Total params: 4,015\n",
            "Trainable params: 4,015\n",
            "Non-trainable params: 0\n",
            "_________________________________________________________________\n"
          ],
          "name": "stdout"
        }
      ]
    },
    {
      "cell_type": "code",
      "metadata": {
        "id": "ZeJVgbxvMMFy",
        "colab_type": "code",
        "colab": {
          "base_uri": "https://localhost:8080/",
          "height": 51
        },
        "outputId": "6bd19ee9-6712-44a9-ac26-5a66922d6f0a"
      },
      "source": [
        "from tensorflow.keras.datasets import mnist\n",
        "\n",
        "(X_train, y_train), (X_test, y_test) = mnist.load_data()"
      ],
      "execution_count": 5,
      "outputs": [
        {
          "output_type": "stream",
          "text": [
            "Downloading data from https://storage.googleapis.com/tensorflow/tf-keras-datasets/mnist.npz\n",
            "11493376/11490434 [==============================] - 0s 0us/step\n"
          ],
          "name": "stdout"
        }
      ]
    },
    {
      "cell_type": "code",
      "metadata": {
        "id": "jqgSY7jDMoJG",
        "colab_type": "code",
        "colab": {
          "base_uri": "https://localhost:8080/",
          "height": 34
        },
        "outputId": "d3b6b962-fa70-4461-f6a3-4769e61de0f5"
      },
      "source": [
        "X_train.shape"
      ],
      "execution_count": 6,
      "outputs": [
        {
          "output_type": "execute_result",
          "data": {
            "text/plain": [
              "(60000, 28, 28)"
            ]
          },
          "metadata": {
            "tags": []
          },
          "execution_count": 6
        }
      ]
    },
    {
      "cell_type": "code",
      "metadata": {
        "id": "-oeNIkKuM7lz",
        "colab_type": "code",
        "colab": {
          "base_uri": "https://localhost:8080/",
          "height": 282
        },
        "outputId": "76c91f8b-010a-4f1f-f13b-e2ba077e9039"
      },
      "source": [
        "import matplotlib.pyplot as plt\n",
        "\n",
        "plt.imshow(X_train[12])\n",
        "print(y_train[12])"
      ],
      "execution_count": 7,
      "outputs": [
        {
          "output_type": "stream",
          "text": [
            "3\n"
          ],
          "name": "stdout"
        },
        {
          "output_type": "display_data",
          "data": {
            "image/png": "[encoded data removed]",
            "text/plain": [
              "<Figure size 432x288 with 1 Axes>"
            ]
          },
          "metadata": {
            "tags": [],
            "needs_background": "light"
          }
        }
      ]
    },
    {
      "cell_type": "code",
      "metadata": {
        "id": "mwZNndWTNitj",
        "colab_type": "code",
        "colab": {}
      },
      "source": [
        "X_train = X_train.reshape((60000, 784))\n",
        "X_test = X_test.reshape((10000, 784))"
      ],
      "execution_count": 8,
      "outputs": []
    },
    {
      "cell_type": "code",
      "metadata": {
        "id": "4xU7rZ5kOCdR",
        "colab_type": "code",
        "colab": {
          "base_uri": "https://localhost:8080/",
          "height": 34
        },
        "outputId": "23b4e6ed-c742-4c1d-d337-757950f0c122"
      },
      "source": [
        "y_train[:10]"
      ],
      "execution_count": 9,
      "outputs": [
        {
          "output_type": "execute_result",
          "data": {
            "text/plain": [
              "array([5, 0, 4, 1, 9, 2, 1, 3, 1, 4], dtype=uint8)"
            ]
          },
          "metadata": {
            "tags": []
          },
          "execution_count": 9
        }
      ]
    },
    {
      "cell_type": "code",
      "metadata": {
        "id": "vrbAAoRROAK3",
        "colab_type": "code",
        "colab": {
          "base_uri": "https://localhost:8080/",
          "height": 34
        },
        "outputId": "84ac8475-40d2-4405-9972-66710b756f5d"
      },
      "source": [
        "X_train.shape"
      ],
      "execution_count": 10,
      "outputs": [
        {
          "output_type": "execute_result",
          "data": {
            "text/plain": [
              "(60000, 784)"
            ]
          },
          "metadata": {
            "tags": []
          },
          "execution_count": 10
        }
      ]
    },
    {
      "cell_type": "code",
      "metadata": {
        "id": "_kCCBhZsOOtV",
        "colab_type": "code",
        "colab": {
          "base_uri": "https://localhost:8080/",
          "height": 884
        },
        "outputId": "94a79ec0-3cb1-482e-a74a-529a4f5e9bd4"
      },
      "source": [
        "model.fit(X_train, y_train, epochs=25)"
      ],
      "execution_count": 11,
      "outputs": [
        {
          "output_type": "stream",
          "text": [
            "Epoch 1/25\n",
            "1875/1875 [==============================] - 3s 2ms/step - loss: 2.2197 - accuracy: 0.2740\n",
            "Epoch 2/25\n",
            "1875/1875 [==============================] - 3s 2ms/step - loss: 2.0310 - accuracy: 0.4288\n",
            "Epoch 3/25\n",
            "1875/1875 [==============================] - 3s 2ms/step - loss: 1.8304 - accuracy: 0.5598\n",
            "Epoch 4/25\n",
            "1875/1875 [==============================] - 3s 2ms/step - loss: 1.6332 - accuracy: 0.6182\n",
            "Epoch 5/25\n",
            "1875/1875 [==============================] - 3s 2ms/step - loss: 1.4599 - accuracy: 0.6485\n",
            "Epoch 6/25\n",
            "1875/1875 [==============================] - 3s 2ms/step - loss: 1.3233 - accuracy: 0.6751\n",
            "Epoch 7/25\n",
            "1875/1875 [==============================] - 3s 2ms/step - loss: 1.2157 - accuracy: 0.6827\n",
            "Epoch 8/25\n",
            "1875/1875 [==============================] - 3s 2ms/step - loss: 1.1485 - accuracy: 0.6908\n",
            "Epoch 9/25\n",
            "1875/1875 [==============================] - 3s 2ms/step - loss: 1.0869 - accuracy: 0.7041\n",
            "Epoch 10/25\n",
            "1875/1875 [==============================] - 3s 2ms/step - loss: 1.0800 - accuracy: 0.6833\n",
            "Epoch 11/25\n",
            "1875/1875 [==============================] - 3s 2ms/step - loss: 1.0596 - accuracy: 0.6955\n",
            "Epoch 12/25\n",
            "1875/1875 [==============================] - 3s 2ms/step - loss: 1.0368 - accuracy: 0.7051\n",
            "Epoch 13/25\n",
            "1875/1875 [==============================] - 3s 2ms/step - loss: 1.0162 - accuracy: 0.7128\n",
            "Epoch 14/25\n",
            "1875/1875 [==============================] - 3s 2ms/step - loss: 0.9762 - accuracy: 0.7196\n",
            "Epoch 15/25\n",
            "1875/1875 [==============================] - 3s 2ms/step - loss: 0.9238 - accuracy: 0.7461\n",
            "Epoch 16/25\n",
            "1875/1875 [==============================] - 3s 2ms/step - loss: 0.9140 - accuracy: 0.7543\n",
            "Epoch 17/25\n",
            "1875/1875 [==============================] - 3s 2ms/step - loss: 0.9250 - accuracy: 0.7423\n",
            "Epoch 18/25\n",
            "1875/1875 [==============================] - 3s 2ms/step - loss: 0.9550 - accuracy: 0.7231\n",
            "Epoch 19/25\n",
            "1875/1875 [==============================] - 3s 2ms/step - loss: 0.9210 - accuracy: 0.7453\n",
            "Epoch 20/25\n",
            "1875/1875 [==============================] - 3s 2ms/step - loss: 0.8954 - accuracy: 0.7424\n",
            "Epoch 21/25\n",
            "1875/1875 [==============================] - 3s 2ms/step - loss: 0.9243 - accuracy: 0.7178\n",
            "Epoch 22/25\n",
            "1875/1875 [==============================] - 3s 2ms/step - loss: 0.8875 - accuracy: 0.7444\n",
            "Epoch 23/25\n",
            "1875/1875 [==============================] - 3s 2ms/step - loss: 0.8628 - accuracy: 0.7605\n",
            "Epoch 24/25\n",
            "1875/1875 [==============================] - 3s 2ms/step - loss: 0.8754 - accuracy: 0.7437\n",
            "Epoch 25/25\n",
            "1875/1875 [==============================] - 3s 2ms/step - loss: 0.8494 - accuracy: 0.7621\n"
          ],
          "name": "stdout"
        },
        {
          "output_type": "execute_result",
          "data": {
            "text/plain": [
              "<tensorflow.python.keras.callbacks.History at 0x7f3c0c1f4dd8>"
            ]
          },
          "metadata": {
            "tags": []
          },
          "execution_count": 11
        }
      ]
    },
    {
      "cell_type": "markdown",
      "metadata": {
        "id": "ITgD4JkwPvEJ",
        "colab_type": "text"
      },
      "source": [
        "## Stochastic Gradient Descent\n",
        "* Batches\n",
        "* Learning Rate\n",
        "* Evaluation"
      ]
    },
    {
      "cell_type": "markdown",
      "metadata": {
        "id": "fVzx75n0QLb2",
        "colab_type": "text"
      },
      "source": [
        "## Batch Size\n",
        "Batches are the number of observations our model is shown to make predictions and update the weights. Batches are selected randomly during epoch. All observations are considered when passing thru an epoch at some point. \n",
        "\n",
        "- Smaller Batch = Slower Run Time (but maybe more accurate results)\n",
        "- Default Batch = Balance between speed and accuracy\n",
        "- Large Batch = Very fast, but not nearly as accurate"
      ]
    },
    {
      "cell_type": "code",
      "metadata": {
        "id": "MGCjG8X4PuX2",
        "colab_type": "code",
        "colab": {}
      },
      "source": [
        "sgd = SGD(learning_rate=0.01)"
      ],
      "execution_count": 12,
      "outputs": []
    },
    {
      "cell_type": "markdown",
      "metadata": {
        "id": "0bkffzZaRDiM",
        "colab_type": "text"
      },
      "source": [
        "### Default Experiment"
      ]
    },
    {
      "cell_type": "code",
      "metadata": {
        "id": "cNqQkCGFQwvt",
        "colab_type": "code",
        "colab": {}
      },
      "source": [
        "model = Sequential([\n",
        "                    Dense(5, activation='sigmoid', input_dim=784),\n",
        "                    Dense(5, activation='sigmoid'), \n",
        "                    Dense(10, activation='softmax')\n",
        "])\n",
        "\n",
        "model.compile(optimizer=sgd, loss='sparse_categorical_crossentropy', metrics=['accuracy'])"
      ],
      "execution_count": 13,
      "outputs": []
    },
    {
      "cell_type": "code",
      "metadata": {
        "id": "7p-qZRN5Q2cz",
        "colab_type": "code",
        "colab": {
          "base_uri": "https://localhost:8080/",
          "height": 887
        },
        "outputId": "40d6187a-19fa-41d5-8406-48e88cc8a912"
      },
      "source": [
        "bt_default = model.fit(X_train, y_train, \n",
        "                       epochs=25,\n",
        "                       batch_size=32,\n",
        "                       validation_data=(X_test,y_test))"
      ],
      "execution_count": 14,
      "outputs": [
        {
          "output_type": "stream",
          "text": [
            "Epoch 1/25\n",
            "1875/1875 [==============================] - 4s 2ms/step - loss: 2.2012 - accuracy: 0.2638 - val_loss: 2.1185 - val_accuracy: 0.2971\n",
            "Epoch 2/25\n",
            "1875/1875 [==============================] - 4s 2ms/step - loss: 2.0150 - accuracy: 0.4187 - val_loss: 1.9087 - val_accuracy: 0.4757\n",
            "Epoch 3/25\n",
            "1875/1875 [==============================] - 4s 2ms/step - loss: 1.8265 - accuracy: 0.4642 - val_loss: 1.7228 - val_accuracy: 0.4952\n",
            "Epoch 4/25\n",
            "1875/1875 [==============================] - 4s 2ms/step - loss: 1.6527 - accuracy: 0.5009 - val_loss: 1.5914 - val_accuracy: 0.5359\n",
            "Epoch 5/25\n",
            "1875/1875 [==============================] - 4s 2ms/step - loss: 1.5335 - accuracy: 0.5221 - val_loss: 1.4734 - val_accuracy: 0.5516\n",
            "Epoch 6/25\n",
            "1875/1875 [==============================] - 4s 2ms/step - loss: 1.4246 - accuracy: 0.5274 - val_loss: 1.3789 - val_accuracy: 0.5486\n",
            "Epoch 7/25\n",
            "1875/1875 [==============================] - 4s 2ms/step - loss: 1.3627 - accuracy: 0.5288 - val_loss: 1.2855 - val_accuracy: 0.5680\n",
            "Epoch 8/25\n",
            "1875/1875 [==============================] - 4s 2ms/step - loss: 1.2786 - accuracy: 0.5729 - val_loss: 1.2160 - val_accuracy: 0.6055\n",
            "Epoch 9/25\n",
            "1875/1875 [==============================] - 4s 2ms/step - loss: 1.2214 - accuracy: 0.5821 - val_loss: 1.1782 - val_accuracy: 0.6093\n",
            "Epoch 10/25\n",
            "1875/1875 [==============================] - 4s 2ms/step - loss: 1.1924 - accuracy: 0.5925 - val_loss: 1.1623 - val_accuracy: 0.6069\n",
            "Epoch 11/25\n",
            "1875/1875 [==============================] - 4s 2ms/step - loss: 1.1528 - accuracy: 0.6018 - val_loss: 1.1592 - val_accuracy: 0.5725\n",
            "Epoch 12/25\n",
            "1875/1875 [==============================] - 4s 2ms/step - loss: 1.1255 - accuracy: 0.5936 - val_loss: 1.1442 - val_accuracy: 0.5783\n",
            "Epoch 13/25\n",
            "1875/1875 [==============================] - 4s 2ms/step - loss: 1.1205 - accuracy: 0.5847 - val_loss: 1.0832 - val_accuracy: 0.6091\n",
            "Epoch 14/25\n",
            "1875/1875 [==============================] - 4s 2ms/step - loss: 1.0952 - accuracy: 0.6005 - val_loss: 1.1960 - val_accuracy: 0.5880\n",
            "Epoch 15/25\n",
            "1875/1875 [==============================] - 4s 2ms/step - loss: 1.1017 - accuracy: 0.6043 - val_loss: 1.0570 - val_accuracy: 0.6182\n",
            "Epoch 16/25\n",
            "1875/1875 [==============================] - 4s 2ms/step - loss: 1.1140 - accuracy: 0.5969 - val_loss: 1.0728 - val_accuracy: 0.6138\n",
            "Epoch 17/25\n",
            "1875/1875 [==============================] - 4s 2ms/step - loss: 1.0895 - accuracy: 0.6076 - val_loss: 1.0627 - val_accuracy: 0.6285\n",
            "Epoch 18/25\n",
            "1875/1875 [==============================] - 4s 2ms/step - loss: 1.0930 - accuracy: 0.6167 - val_loss: 1.0720 - val_accuracy: 0.6476\n",
            "Epoch 19/25\n",
            "1875/1875 [==============================] - 4s 2ms/step - loss: 1.0784 - accuracy: 0.6281 - val_loss: 1.0699 - val_accuracy: 0.6353\n",
            "Epoch 20/25\n",
            "1875/1875 [==============================] - 4s 2ms/step - loss: 1.0378 - accuracy: 0.6393 - val_loss: 1.0194 - val_accuracy: 0.6472\n",
            "Epoch 21/25\n",
            "1875/1875 [==============================] - 4s 2ms/step - loss: 1.0434 - accuracy: 0.6303 - val_loss: 1.0694 - val_accuracy: 0.6038\n",
            "Epoch 22/25\n",
            "1875/1875 [==============================] - 4s 2ms/step - loss: 1.0215 - accuracy: 0.6477 - val_loss: 1.0346 - val_accuracy: 0.6589\n",
            "Epoch 23/25\n",
            "1875/1875 [==============================] - 4s 2ms/step - loss: 1.0154 - accuracy: 0.6513 - val_loss: 0.9770 - val_accuracy: 0.6782\n",
            "Epoch 24/25\n",
            "1875/1875 [==============================] - 4s 2ms/step - loss: 1.0065 - accuracy: 0.6589 - val_loss: 0.9980 - val_accuracy: 0.6616\n",
            "Epoch 25/25\n",
            "1875/1875 [==============================] - 4s 2ms/step - loss: 0.9827 - accuracy: 0.6610 - val_loss: 0.9595 - val_accuracy: 0.6740\n"
          ],
          "name": "stdout"
        }
      ]
    },
    {
      "cell_type": "markdown",
      "metadata": {
        "id": "xw4igbnWRxFJ",
        "colab_type": "text"
      },
      "source": [
        "### Small Batch Experiment"
      ]
    },
    {
      "cell_type": "code",
      "metadata": {
        "id": "T1tHUZhYSFZK",
        "colab_type": "code",
        "colab": {}
      },
      "source": [
        "model = Sequential([\n",
        "                    Dense(5, activation='sigmoid', input_dim=784),\n",
        "                    Dense(5, activation='sigmoid'), \n",
        "                    Dense(10, activation='softmax')\n",
        "])\n",
        "\n",
        "model.compile(optimizer=sgd, loss='sparse_categorical_crossentropy', metrics=['accuracy'])"
      ],
      "execution_count": 15,
      "outputs": []
    },
    {
      "cell_type": "code",
      "metadata": {
        "id": "QehG-oYbSIqM",
        "colab_type": "code",
        "colab": {
          "base_uri": "https://localhost:8080/",
          "height": 887
        },
        "outputId": "0436e3a7-c34a-41bd-b311-4df1843b983d"
      },
      "source": [
        "bt_small = model.fit(X_train, y_train, \n",
        "                       epochs=25,\n",
        "                       batch_size=8,\n",
        "                       validation_data=(X_test,y_test))"
      ],
      "execution_count": 17,
      "outputs": [
        {
          "output_type": "stream",
          "text": [
            "Epoch 1/25\n",
            "7500/7500 [==============================] - 16s 2ms/step - loss: 2.1342 - accuracy: 0.2386 - val_loss: 1.9516 - val_accuracy: 0.2857\n",
            "Epoch 2/25\n",
            "7500/7500 [==============================] - 16s 2ms/step - loss: 1.8194 - accuracy: 0.3564 - val_loss: 1.7476 - val_accuracy: 0.4068\n",
            "Epoch 3/25\n",
            "7500/7500 [==============================] - 16s 2ms/step - loss: 1.6654 - accuracy: 0.4061 - val_loss: 1.5452 - val_accuracy: 0.4325\n",
            "Epoch 4/25\n",
            "7500/7500 [==============================] - 16s 2ms/step - loss: 1.6165 - accuracy: 0.3940 - val_loss: 1.6413 - val_accuracy: 0.3629\n",
            "Epoch 5/25\n",
            "7500/7500 [==============================] - 17s 2ms/step - loss: 1.5906 - accuracy: 0.3920 - val_loss: 1.5679 - val_accuracy: 0.3977\n",
            "Epoch 6/25\n",
            "7500/7500 [==============================] - 15s 2ms/step - loss: 1.6743 - accuracy: 0.3392 - val_loss: 1.7119 - val_accuracy: 0.3806\n",
            "Epoch 7/25\n",
            "7500/7500 [==============================] - 15s 2ms/step - loss: 1.6620 - accuracy: 0.3778 - val_loss: 1.6517 - val_accuracy: 0.3742\n",
            "Epoch 8/25\n",
            "7500/7500 [==============================] - 16s 2ms/step - loss: 1.6190 - accuracy: 0.3723 - val_loss: 1.5798 - val_accuracy: 0.3560\n",
            "Epoch 9/25\n",
            "7500/7500 [==============================] - 15s 2ms/step - loss: 1.6114 - accuracy: 0.3722 - val_loss: 1.6026 - val_accuracy: 0.3800\n",
            "Epoch 10/25\n",
            "7500/7500 [==============================] - 16s 2ms/step - loss: 1.5607 - accuracy: 0.4024 - val_loss: 1.6152 - val_accuracy: 0.3822\n",
            "Epoch 11/25\n",
            "7500/7500 [==============================] - 16s 2ms/step - loss: 1.6172 - accuracy: 0.3619 - val_loss: 1.5478 - val_accuracy: 0.3776\n",
            "Epoch 12/25\n",
            "7500/7500 [==============================] - 16s 2ms/step - loss: 1.5159 - accuracy: 0.4044 - val_loss: 1.5242 - val_accuracy: 0.3897\n",
            "Epoch 13/25\n",
            "7500/7500 [==============================] - 16s 2ms/step - loss: 1.4974 - accuracy: 0.4147 - val_loss: 1.4714 - val_accuracy: 0.4338\n",
            "Epoch 14/25\n",
            "7500/7500 [==============================] - 16s 2ms/step - loss: 1.4642 - accuracy: 0.4312 - val_loss: 1.3973 - val_accuracy: 0.4428\n",
            "Epoch 15/25\n",
            "7500/7500 [==============================] - 15s 2ms/step - loss: 1.4360 - accuracy: 0.4287 - val_loss: 1.4621 - val_accuracy: 0.4005\n",
            "Epoch 16/25\n",
            "7500/7500 [==============================] - 16s 2ms/step - loss: 1.4377 - accuracy: 0.4316 - val_loss: 1.3882 - val_accuracy: 0.4601\n",
            "Epoch 17/25\n",
            "7500/7500 [==============================] - 16s 2ms/step - loss: 1.3840 - accuracy: 0.4514 - val_loss: 1.3360 - val_accuracy: 0.4597\n",
            "Epoch 18/25\n",
            "7500/7500 [==============================] - 16s 2ms/step - loss: 1.3883 - accuracy: 0.4602 - val_loss: 1.4412 - val_accuracy: 0.4514\n",
            "Epoch 19/25\n",
            "7500/7500 [==============================] - 15s 2ms/step - loss: 1.3810 - accuracy: 0.4686 - val_loss: 1.3884 - val_accuracy: 0.4653\n",
            "Epoch 20/25\n",
            "7500/7500 [==============================] - 15s 2ms/step - loss: 1.3877 - accuracy: 0.4682 - val_loss: 1.3471 - val_accuracy: 0.4761\n",
            "Epoch 21/25\n",
            "7500/7500 [==============================] - 15s 2ms/step - loss: 1.3587 - accuracy: 0.4633 - val_loss: 1.3209 - val_accuracy: 0.4708\n",
            "Epoch 22/25\n",
            "7500/7500 [==============================] - 15s 2ms/step - loss: 1.4016 - accuracy: 0.4546 - val_loss: 1.3666 - val_accuracy: 0.4655\n",
            "Epoch 23/25\n",
            "7500/7500 [==============================] - 15s 2ms/step - loss: 1.3895 - accuracy: 0.4584 - val_loss: 1.3212 - val_accuracy: 0.4747\n",
            "Epoch 24/25\n",
            "7500/7500 [==============================] - 16s 2ms/step - loss: 1.3225 - accuracy: 0.4745 - val_loss: 1.3069 - val_accuracy: 0.4820\n",
            "Epoch 25/25\n",
            "7500/7500 [==============================] - 17s 2ms/step - loss: 1.3375 - accuracy: 0.4742 - val_loss: 1.4056 - val_accuracy: 0.4564\n"
          ],
          "name": "stdout"
        }
      ]
    },
    {
      "cell_type": "markdown",
      "metadata": {
        "id": "oYnL_1utT0ME",
        "colab_type": "text"
      },
      "source": [
        "### Large Batch Size Experiment"
      ]
    },
    {
      "cell_type": "code",
      "metadata": {
        "id": "uvr4LTHUTxAD",
        "colab_type": "code",
        "colab": {}
      },
      "source": [
        "model = Sequential([\n",
        "                    Dense(5, activation='sigmoid', input_dim=784),\n",
        "                    Dense(5, activation='sigmoid'), \n",
        "                    Dense(10, activation='softmax')\n",
        "])\n",
        "\n",
        "model.compile(optimizer=sgd, loss='sparse_categorical_crossentropy', metrics=['accuracy'])"
      ],
      "execution_count": 18,
      "outputs": []
    },
    {
      "cell_type": "code",
      "metadata": {
        "id": "o62x2r27T5Xm",
        "colab_type": "code",
        "colab": {
          "base_uri": "https://localhost:8080/",
          "height": 887
        },
        "outputId": "a96b1a7f-4386-4380-f1d9-96fde0c1f27b"
      },
      "source": [
        "bt_large = model.fit(X_train, y_train, \n",
        "                       epochs=25,\n",
        "                       batch_size=512,\n",
        "                       validation_data=(X_test,y_test))"
      ],
      "execution_count": 19,
      "outputs": [
        {
          "output_type": "stream",
          "text": [
            "Epoch 1/25\n",
            "118/118 [==============================] - 0s 3ms/step - loss: 2.2982 - accuracy: 0.0921 - val_loss: 2.2742 - val_accuracy: 0.1051\n",
            "Epoch 2/25\n",
            "118/118 [==============================] - 0s 3ms/step - loss: 2.2605 - accuracy: 0.1267 - val_loss: 2.2481 - val_accuracy: 0.1434\n",
            "Epoch 3/25\n",
            "118/118 [==============================] - 0s 3ms/step - loss: 2.2401 - accuracy: 0.1474 - val_loss: 2.2318 - val_accuracy: 0.1544\n",
            "Epoch 4/25\n",
            "118/118 [==============================] - 0s 3ms/step - loss: 2.2259 - accuracy: 0.2011 - val_loss: 2.2184 - val_accuracy: 0.2301\n",
            "Epoch 5/25\n",
            "118/118 [==============================] - 0s 3ms/step - loss: 2.2133 - accuracy: 0.2825 - val_loss: 2.2068 - val_accuracy: 0.3303\n",
            "Epoch 6/25\n",
            "118/118 [==============================] - 0s 3ms/step - loss: 2.2017 - accuracy: 0.3331 - val_loss: 2.1951 - val_accuracy: 0.3540\n",
            "Epoch 7/25\n",
            "118/118 [==============================] - 0s 3ms/step - loss: 2.1901 - accuracy: 0.3554 - val_loss: 2.1827 - val_accuracy: 0.3852\n",
            "Epoch 8/25\n",
            "118/118 [==============================] - 0s 3ms/step - loss: 2.1784 - accuracy: 0.4053 - val_loss: 2.1707 - val_accuracy: 0.4409\n",
            "Epoch 9/25\n",
            "118/118 [==============================] - 0s 3ms/step - loss: 2.1667 - accuracy: 0.4435 - val_loss: 2.1591 - val_accuracy: 0.4561\n",
            "Epoch 10/25\n",
            "118/118 [==============================] - 0s 3ms/step - loss: 2.1543 - accuracy: 0.4480 - val_loss: 2.1468 - val_accuracy: 0.4599\n",
            "Epoch 11/25\n",
            "118/118 [==============================] - 0s 3ms/step - loss: 2.1419 - accuracy: 0.4457 - val_loss: 2.1340 - val_accuracy: 0.4515\n",
            "Epoch 12/25\n",
            "118/118 [==============================] - 0s 3ms/step - loss: 2.1292 - accuracy: 0.4438 - val_loss: 2.1210 - val_accuracy: 0.4452\n",
            "Epoch 13/25\n",
            "118/118 [==============================] - 0s 3ms/step - loss: 2.1161 - accuracy: 0.4338 - val_loss: 2.1075 - val_accuracy: 0.4345\n",
            "Epoch 14/25\n",
            "118/118 [==============================] - 0s 3ms/step - loss: 2.1025 - accuracy: 0.4328 - val_loss: 2.0938 - val_accuracy: 0.4374\n",
            "Epoch 15/25\n",
            "118/118 [==============================] - 0s 3ms/step - loss: 2.0889 - accuracy: 0.4320 - val_loss: 2.0804 - val_accuracy: 0.4300\n",
            "Epoch 16/25\n",
            "118/118 [==============================] - 0s 3ms/step - loss: 2.0746 - accuracy: 0.4361 - val_loss: 2.0657 - val_accuracy: 0.4353\n",
            "Epoch 17/25\n",
            "118/118 [==============================] - 0s 3ms/step - loss: 2.0600 - accuracy: 0.4338 - val_loss: 2.0505 - val_accuracy: 0.4324\n",
            "Epoch 18/25\n",
            "118/118 [==============================] - 0s 3ms/step - loss: 2.0452 - accuracy: 0.4352 - val_loss: 2.0361 - val_accuracy: 0.4308\n",
            "Epoch 19/25\n",
            "118/118 [==============================] - 0s 3ms/step - loss: 2.0303 - accuracy: 0.4376 - val_loss: 2.0203 - val_accuracy: 0.4361\n",
            "Epoch 20/25\n",
            "118/118 [==============================] - 0s 3ms/step - loss: 2.0146 - accuracy: 0.5004 - val_loss: 2.0053 - val_accuracy: 0.5023\n",
            "Epoch 21/25\n",
            "118/118 [==============================] - 0s 3ms/step - loss: 1.9988 - accuracy: 0.5065 - val_loss: 1.9901 - val_accuracy: 0.5043\n",
            "Epoch 22/25\n",
            "118/118 [==============================] - 0s 3ms/step - loss: 1.9831 - accuracy: 0.5077 - val_loss: 1.9744 - val_accuracy: 0.4976\n",
            "Epoch 23/25\n",
            "118/118 [==============================] - 0s 3ms/step - loss: 1.9669 - accuracy: 0.5087 - val_loss: 1.9576 - val_accuracy: 0.5052\n",
            "Epoch 24/25\n",
            "118/118 [==============================] - 0s 3ms/step - loss: 1.9510 - accuracy: 0.5070 - val_loss: 1.9443 - val_accuracy: 0.5054\n",
            "Epoch 25/25\n",
            "118/118 [==============================] - 0s 3ms/step - loss: 1.9343 - accuracy: 0.5119 - val_loss: 1.9248 - val_accuracy: 0.5060\n"
          ],
          "name": "stdout"
        }
      ]
    },
    {
      "cell_type": "markdown",
      "metadata": {
        "id": "YnuwlhMXT_VS",
        "colab_type": "text"
      },
      "source": [
        "### Visualization of Results"
      ]
    },
    {
      "cell_type": "code",
      "metadata": {
        "id": "1hNJNp7uUBhl",
        "colab_type": "code",
        "colab": {}
      },
      "source": [
        "import seaborn as sns\n",
        "import pandas as pd"
      ],
      "execution_count": 21,
      "outputs": []
    },
    {
      "cell_type": "code",
      "metadata": {
        "id": "Z_Md2pROWJjl",
        "colab_type": "code",
        "colab": {}
      },
      "source": [
        "default = pd.DataFrame.from_dict(bt_default.history)\n",
        "default['epoch'] = default.index.values\n",
        "default['batch_size'] = 'default32'\n",
        "\n",
        "large = pd.DataFrame.from_dict(bt_large.history)\n",
        "large['epoch'] = large.index.values\n",
        "large['batch_size'] =  'large512'\n",
        "\n",
        "small = pd.DataFrame.from_dict(bt_small.history)\n",
        "small['epoch'] = small.index.values\n",
        "small['batch_size'] = 'small8'\n",
        "\n",
        "df = pd.concat([default,large, small])\n",
        "df['batch_size'] = df['batch_size'].astype('str')"
      ],
      "execution_count": 52,
      "outputs": []
    },
    {
      "cell_type": "markdown",
      "metadata": {
        "id": "9d_ouqpBY-Rg",
        "colab_type": "text"
      },
      "source": [
        ""
      ]
    },
    {
      "cell_type": "code",
      "metadata": {
        "id": "Ro99M0mUYOxt",
        "colab_type": "code",
        "colab": {
          "base_uri": "https://localhost:8080/",
          "height": 204
        },
        "outputId": "12aae839-0593-42cd-a26f-735ea73321b7"
      },
      "source": [
        "df.head()"
      ],
      "execution_count": 53,
      "outputs": [
        {
          "output_type": "execute_result",
          "data": {
            "text/html": [
              "<div>\n",
              "<style scoped>\n",
              "    .dataframe tbody tr th:only-of-type {\n",
              "        vertical-align: middle;\n",
              "    }\n",
              "\n",
              "    .dataframe tbody tr th {\n",
              "        vertical-align: top;\n",
              "    }\n",
              "\n",
              "    .dataframe thead th {\n",
              "        text-align: right;\n",
              "    }\n",
              "</style>\n",
              "<table border=\"1\" class=\"dataframe\">\n",
              "  <thead>\n",
              "    <tr style=\"text-align: right;\">\n",
              "      <th></th>\n",
              "      <th>loss</th>\n",
              "      <th>accuracy</th>\n",
              "      <th>val_loss</th>\n",
              "      <th>val_accuracy</th>\n",
              "      <th>epoch</th>\n",
              "      <th>batch_size</th>\n",
              "    </tr>\n",
              "  </thead>\n",
              "  <tbody>\n",
              "    <tr>\n",
              "      <th>0</th>\n",
              "      <td>2.201216</td>\n",
              "      <td>0.263833</td>\n",
              "      <td>2.118528</td>\n",
              "      <td>0.2971</td>\n",
              "      <td>0</td>\n",
              "      <td>default32</td>\n",
              "    </tr>\n",
              "    <tr>\n",
              "      <th>1</th>\n",
              "      <td>2.014980</td>\n",
              "      <td>0.418667</td>\n",
              "      <td>1.908655</td>\n",
              "      <td>0.4757</td>\n",
              "      <td>1</td>\n",
              "      <td>default32</td>\n",
              "    </tr>\n",
              "    <tr>\n",
              "      <th>2</th>\n",
              "      <td>1.826533</td>\n",
              "      <td>0.464233</td>\n",
              "      <td>1.722847</td>\n",
              "      <td>0.4952</td>\n",
              "      <td>2</td>\n",
              "      <td>default32</td>\n",
              "    </tr>\n",
              "    <tr>\n",
              "      <th>3</th>\n",
              "      <td>1.652737</td>\n",
              "      <td>0.500883</td>\n",
              "      <td>1.591400</td>\n",
              "      <td>0.5359</td>\n",
              "      <td>3</td>\n",
              "      <td>default32</td>\n",
              "    </tr>\n",
              "    <tr>\n",
              "      <th>4</th>\n",
              "      <td>1.533492</td>\n",
              "      <td>0.522133</td>\n",
              "      <td>1.473436</td>\n",
              "      <td>0.5516</td>\n",
              "      <td>4</td>\n",
              "      <td>default32</td>\n",
              "    </tr>\n",
              "  </tbody>\n",
              "</table>\n",
              "</div>"
            ],
            "text/plain": [
              "       loss  accuracy  val_loss  val_accuracy  epoch batch_size\n",
              "0  2.201216  0.263833  2.118528        0.2971      0  default32\n",
              "1  2.014980  0.418667  1.908655        0.4757      1  default32\n",
              "2  1.826533  0.464233  1.722847        0.4952      2  default32\n",
              "3  1.652737  0.500883  1.591400        0.5359      3  default32\n",
              "4  1.533492  0.522133  1.473436        0.5516      4  default32"
            ]
          },
          "metadata": {
            "tags": []
          },
          "execution_count": 53
        }
      ]
    },
    {
      "cell_type": "markdown",
      "metadata": {
        "id": "FKBknkvPY4lQ",
        "colab_type": "text"
      },
      "source": [
        ""
      ]
    },
    {
      "cell_type": "code",
      "metadata": {
        "id": "RJVuFrfdYQx2",
        "colab_type": "code",
        "colab": {
          "base_uri": "https://localhost:8080/",
          "height": 298
        },
        "outputId": "02687467-e10c-4946-a45e-6a15fac3485a"
      },
      "source": [
        "sns.lineplot(x='epoch', y='val_accuracy', hue='batch_size', data=df)"
      ],
      "execution_count": 54,
      "outputs": [
        {
          "output_type": "execute_result",
          "data": {
            "text/plain": [
              "<matplotlib.axes._subplots.AxesSubplot at 0x7f3bfa4ac208>"
            ]
          },
          "metadata": {
            "tags": []
          },
          "execution_count": 54
        },
        {
          "output_type": "display_data",
          "data": {
            "image/png": "[encoded data removed]",
            "text/plain": [
              "<Figure size 432x288 with 1 Axes>"
            ]
          },
          "metadata": {
            "tags": [],
            "needs_background": "light"
          }
        }
      ]
    },
    {
      "cell_type": "code",
      "metadata": {
        "id": "ShWUnqsMZNm6",
        "colab_type": "code",
        "colab": {
          "base_uri": "https://localhost:8080/",
          "height": 296
        },
        "outputId": "688ef3b6-8bf7-4c07-ca25-80685db55768"
      },
      "source": [
        "sns.lineplot(x='epoch', y='val_loss', hue='batch_size', data=df)"
      ],
      "execution_count": 55,
      "outputs": [
        {
          "output_type": "execute_result",
          "data": {
            "text/plain": [
              "<matplotlib.axes._subplots.AxesSubplot at 0x7f3bfa54ab00>"
            ]
          },
          "metadata": {
            "tags": []
          },
          "execution_count": 55
        },
        {
          "output_type": "display_data",
          "data": {
            "image/png": "[encoded data removed]",
            "text/plain": [
              "<Figure size 432x288 with 1 Axes>"
            ]
          },
          "metadata": {
            "tags": [],
            "needs_background": "light"
          }
        }
      ]
    },
    {
      "cell_type": "markdown",
      "metadata": {
        "id": "Osf6lToraEXv",
        "colab_type": "text"
      },
      "source": [
        "## Learning Rate \n",
        "\n",
        "Learning Rate controls the size of the update to our weights that the optimization algorithm makes. VERY IMPORTANT hyperparameter.\n",
        "\n",
        "* Too high of a learning rate causes unstable results\n",
        "* Too Low of a learning rate the model will never \"converge\"\n",
        "* Goldy Locks parameters - it needs be \"just right\"\n",
        "* Scale of 0-1\n",
        "\n",
        "Same experiment with Batch but different learning rates:\n",
        "* High Learning = .75\n",
        "* Default Learning = .01\n",
        "* Low Learning Rate = .0001"
      ]
    },
    {
      "cell_type": "markdown",
      "metadata": {
        "id": "LAu1tUubbDlH",
        "colab_type": "text"
      },
      "source": [
        "### High Learning Rate"
      ]
    },
    {
      "cell_type": "code",
      "metadata": {
        "id": "jCNXSWWcaZiK",
        "colab_type": "code",
        "colab": {}
      },
      "source": [
        "sgd = SGD(learning_rate=0.75)"
      ],
      "execution_count": 61,
      "outputs": []
    },
    {
      "cell_type": "code",
      "metadata": {
        "id": "aeHn_IBCaDjV",
        "colab_type": "code",
        "colab": {}
      },
      "source": [
        "model = Sequential([\n",
        "                    Dense(5, activation='sigmoid', input_dim=784),\n",
        "                    Dense(5, activation='sigmoid'), \n",
        "                    Dense(10, activation='softmax')\n",
        "])\n",
        "\n",
        "model.compile(optimizer=sgd, loss='sparse_categorical_crossentropy', metrics=['accuracy'])"
      ],
      "execution_count": 59,
      "outputs": []
    },
    {
      "cell_type": "code",
      "metadata": {
        "id": "WmXd7QoxbN1y",
        "colab_type": "code",
        "colab": {
          "base_uri": "https://localhost:8080/",
          "height": 887
        },
        "outputId": "8fd02541-b72a-4be7-9202-74c0a3e90f1c"
      },
      "source": [
        "lr_high = model.fit(X_train, y_train, \n",
        "                       epochs=25,\n",
        "                       batch_size=64,\n",
        "                       validation_data=(X_test,y_test))"
      ],
      "execution_count": 60,
      "outputs": [
        {
          "output_type": "stream",
          "text": [
            "Epoch 1/25\n",
            "938/938 [==============================] - 2s 2ms/step - loss: 2.2483 - accuracy: 0.1419 - val_loss: 2.1021 - val_accuracy: 0.1908\n",
            "Epoch 2/25\n",
            "938/938 [==============================] - 2s 2ms/step - loss: 2.1680 - accuracy: 0.1599 - val_loss: 2.2188 - val_accuracy: 0.1412\n",
            "Epoch 3/25\n",
            "938/938 [==============================] - 2s 2ms/step - loss: 2.0823 - accuracy: 0.1726 - val_loss: 2.1917 - val_accuracy: 0.1605\n",
            "Epoch 4/25\n",
            "938/938 [==============================] - 2s 2ms/step - loss: 2.0582 - accuracy: 0.1814 - val_loss: 2.0958 - val_accuracy: 0.1789\n",
            "Epoch 5/25\n",
            "938/938 [==============================] - 2s 2ms/step - loss: 2.0750 - accuracy: 0.1804 - val_loss: 1.9935 - val_accuracy: 0.2026\n",
            "Epoch 6/25\n",
            "938/938 [==============================] - 2s 2ms/step - loss: 2.0032 - accuracy: 0.1877 - val_loss: 1.9866 - val_accuracy: 0.1900\n",
            "Epoch 7/25\n",
            "938/938 [==============================] - 2s 2ms/step - loss: 2.0275 - accuracy: 0.1786 - val_loss: 2.0544 - val_accuracy: 0.1803\n",
            "Epoch 8/25\n",
            "938/938 [==============================] - 2s 2ms/step - loss: 1.9632 - accuracy: 0.1873 - val_loss: 1.9564 - val_accuracy: 0.1855\n",
            "Epoch 9/25\n",
            "938/938 [==============================] - 2s 2ms/step - loss: 1.9855 - accuracy: 0.1882 - val_loss: 1.9318 - val_accuracy: 0.1943\n",
            "Epoch 10/25\n",
            "938/938 [==============================] - 2s 3ms/step - loss: 1.9466 - accuracy: 0.1920 - val_loss: 1.9607 - val_accuracy: 0.1982\n",
            "Epoch 11/25\n",
            "938/938 [==============================] - 2s 2ms/step - loss: 1.9630 - accuracy: 0.1951 - val_loss: 1.9588 - val_accuracy: 0.1973\n",
            "Epoch 12/25\n",
            "938/938 [==============================] - 2s 2ms/step - loss: 1.9207 - accuracy: 0.1997 - val_loss: 1.9626 - val_accuracy: 0.2071\n",
            "Epoch 13/25\n",
            "938/938 [==============================] - 2s 2ms/step - loss: 1.9218 - accuracy: 0.1957 - val_loss: 1.9269 - val_accuracy: 0.1928\n",
            "Epoch 14/25\n",
            "938/938 [==============================] - 2s 2ms/step - loss: 1.9207 - accuracy: 0.1955 - val_loss: 1.9222 - val_accuracy: 0.1945\n",
            "Epoch 15/25\n",
            "938/938 [==============================] - 2s 2ms/step - loss: 1.9264 - accuracy: 0.1978 - val_loss: 1.9284 - val_accuracy: 0.2078\n",
            "Epoch 16/25\n",
            "938/938 [==============================] - 2s 2ms/step - loss: 1.9945 - accuracy: 0.1965 - val_loss: 2.0691 - val_accuracy: 0.2006\n",
            "Epoch 17/25\n",
            "938/938 [==============================] - 2s 2ms/step - loss: 2.0798 - accuracy: 0.1922 - val_loss: 2.0169 - val_accuracy: 0.2067\n",
            "Epoch 18/25\n",
            "938/938 [==============================] - 2s 2ms/step - loss: 1.9648 - accuracy: 0.2000 - val_loss: 1.9382 - val_accuracy: 0.1915\n",
            "Epoch 19/25\n",
            "938/938 [==============================] - 2s 2ms/step - loss: 2.0104 - accuracy: 0.1983 - val_loss: 2.0162 - val_accuracy: 0.1906\n",
            "Epoch 20/25\n",
            "938/938 [==============================] - 3s 3ms/step - loss: 2.0072 - accuracy: 0.1980 - val_loss: 1.9286 - val_accuracy: 0.2083\n",
            "Epoch 21/25\n",
            "938/938 [==============================] - 2s 2ms/step - loss: 1.9222 - accuracy: 0.1969 - val_loss: 1.9351 - val_accuracy: 0.1950\n",
            "Epoch 22/25\n",
            "938/938 [==============================] - 2s 2ms/step - loss: 1.9183 - accuracy: 0.2010 - val_loss: 1.9098 - val_accuracy: 0.1983\n",
            "Epoch 23/25\n",
            "938/938 [==============================] - 2s 2ms/step - loss: 2.0124 - accuracy: 0.1953 - val_loss: 2.0518 - val_accuracy: 0.2032\n",
            "Epoch 24/25\n",
            "938/938 [==============================] - 2s 2ms/step - loss: 2.0555 - accuracy: 0.1950 - val_loss: 2.0355 - val_accuracy: 0.1937\n",
            "Epoch 25/25\n",
            "938/938 [==============================] - 2s 3ms/step - loss: 2.0022 - accuracy: 0.1957 - val_loss: 1.9569 - val_accuracy: 0.2095\n"
          ],
          "name": "stdout"
        }
      ]
    },
    {
      "cell_type": "markdown",
      "metadata": {
        "id": "5QIpgSEnbVQ1",
        "colab_type": "text"
      },
      "source": [
        ""
      ]
    },
    {
      "cell_type": "markdown",
      "metadata": {
        "colab_type": "text",
        "id": "JipT11OYbqHr"
      },
      "source": [
        "### Default Learning Rate"
      ]
    },
    {
      "cell_type": "code",
      "metadata": {
        "colab_type": "code",
        "id": "T-qh_tZcbqHs",
        "colab": {}
      },
      "source": [
        "sgd = SGD(learning_rate=0.01)"
      ],
      "execution_count": 62,
      "outputs": []
    },
    {
      "cell_type": "code",
      "metadata": {
        "colab_type": "code",
        "id": "aR4zIPu7bqHv",
        "colab": {}
      },
      "source": [
        "model = Sequential([\n",
        "                    Dense(5, activation='sigmoid', input_dim=784),\n",
        "                    Dense(5, activation='sigmoid'), \n",
        "                    Dense(10, activation='softmax')\n",
        "])\n",
        "\n",
        "model.compile(optimizer=sgd, loss='sparse_categorical_crossentropy', metrics=['accuracy'])"
      ],
      "execution_count": 63,
      "outputs": []
    },
    {
      "cell_type": "code",
      "metadata": {
        "colab_type": "code",
        "id": "gSaU5kQMbqHy",
        "colab": {
          "base_uri": "https://localhost:8080/",
          "height": 887
        },
        "outputId": "73e9c1cd-a237-45b3-e803-a1816988c5d5"
      },
      "source": [
        "lr_default = model.fit(X_train, y_train, \n",
        "                       epochs=25,\n",
        "                       batch_size=64,\n",
        "                       validation_data=(X_test,y_test))"
      ],
      "execution_count": 64,
      "outputs": [
        {
          "output_type": "stream",
          "text": [
            "Epoch 1/25\n",
            "938/938 [==============================] - 2s 3ms/step - loss: 2.2945 - accuracy: 0.2000 - val_loss: 2.2330 - val_accuracy: 0.2966\n",
            "Epoch 2/25\n",
            "938/938 [==============================] - 2s 2ms/step - loss: 2.1969 - accuracy: 0.3381 - val_loss: 2.1633 - val_accuracy: 0.3530\n",
            "Epoch 3/25\n",
            "938/938 [==============================] - 2s 2ms/step - loss: 2.1296 - accuracy: 0.4024 - val_loss: 2.0899 - val_accuracy: 0.4161\n",
            "Epoch 4/25\n",
            "938/938 [==============================] - 2s 2ms/step - loss: 2.0498 - accuracy: 0.4815 - val_loss: 2.0038 - val_accuracy: 0.4857\n",
            "Epoch 5/25\n",
            "938/938 [==============================] - 2s 2ms/step - loss: 1.9548 - accuracy: 0.5288 - val_loss: 1.9056 - val_accuracy: 0.5590\n",
            "Epoch 6/25\n",
            "938/938 [==============================] - 2s 2ms/step - loss: 1.8535 - accuracy: 0.5606 - val_loss: 1.8056 - val_accuracy: 0.5590\n",
            "Epoch 7/25\n",
            "938/938 [==============================] - 2s 2ms/step - loss: 1.7513 - accuracy: 0.5598 - val_loss: 1.6941 - val_accuracy: 0.5710\n",
            "Epoch 8/25\n",
            "938/938 [==============================] - 2s 2ms/step - loss: 1.6652 - accuracy: 0.5612 - val_loss: 1.6123 - val_accuracy: 0.5567\n",
            "Epoch 9/25\n",
            "938/938 [==============================] - 2s 2ms/step - loss: 1.5849 - accuracy: 0.5661 - val_loss: 1.5351 - val_accuracy: 0.5647\n",
            "Epoch 10/25\n",
            "938/938 [==============================] - 2s 2ms/step - loss: 1.5066 - accuracy: 0.6104 - val_loss: 1.4696 - val_accuracy: 0.6297\n",
            "Epoch 11/25\n",
            "938/938 [==============================] - 2s 2ms/step - loss: 1.4479 - accuracy: 0.6291 - val_loss: 1.4106 - val_accuracy: 0.6563\n",
            "Epoch 12/25\n",
            "938/938 [==============================] - 2s 2ms/step - loss: 1.3935 - accuracy: 0.6383 - val_loss: 1.3764 - val_accuracy: 0.6457\n",
            "Epoch 13/25\n",
            "938/938 [==============================] - 2s 2ms/step - loss: 1.3466 - accuracy: 0.6557 - val_loss: 1.3355 - val_accuracy: 0.6517\n",
            "Epoch 14/25\n",
            "938/938 [==============================] - 3s 3ms/step - loss: 1.3171 - accuracy: 0.6644 - val_loss: 1.2929 - val_accuracy: 0.6561\n",
            "Epoch 15/25\n",
            "938/938 [==============================] - 2s 3ms/step - loss: 1.2615 - accuracy: 0.6874 - val_loss: 1.2311 - val_accuracy: 0.6936\n",
            "Epoch 16/25\n",
            "938/938 [==============================] - 2s 3ms/step - loss: 1.2426 - accuracy: 0.6835 - val_loss: 1.2524 - val_accuracy: 0.6753\n",
            "Epoch 17/25\n",
            "938/938 [==============================] - 2s 3ms/step - loss: 1.2304 - accuracy: 0.6699 - val_loss: 1.2171 - val_accuracy: 0.6575\n",
            "Epoch 18/25\n",
            "938/938 [==============================] - 2s 3ms/step - loss: 1.1948 - accuracy: 0.6854 - val_loss: 1.1514 - val_accuracy: 0.7073\n",
            "Epoch 19/25\n",
            "938/938 [==============================] - 2s 2ms/step - loss: 1.1712 - accuracy: 0.6848 - val_loss: 1.1307 - val_accuracy: 0.6952\n",
            "Epoch 20/25\n",
            "938/938 [==============================] - 2s 3ms/step - loss: 1.1421 - accuracy: 0.7039 - val_loss: 1.1102 - val_accuracy: 0.7080\n",
            "Epoch 21/25\n",
            "938/938 [==============================] - 2s 2ms/step - loss: 1.1137 - accuracy: 0.7071 - val_loss: 1.0978 - val_accuracy: 0.7015\n",
            "Epoch 22/25\n",
            "938/938 [==============================] - 2s 2ms/step - loss: 1.1204 - accuracy: 0.6985 - val_loss: 1.1029 - val_accuracy: 0.6995\n",
            "Epoch 23/25\n",
            "938/938 [==============================] - 2s 2ms/step - loss: 1.0955 - accuracy: 0.7054 - val_loss: 1.1455 - val_accuracy: 0.6630\n",
            "Epoch 24/25\n",
            "938/938 [==============================] - 2s 2ms/step - loss: 1.0762 - accuracy: 0.7023 - val_loss: 1.0423 - val_accuracy: 0.7070\n",
            "Epoch 25/25\n",
            "938/938 [==============================] - 2s 2ms/step - loss: 1.0624 - accuracy: 0.7072 - val_loss: 1.0696 - val_accuracy: 0.6857\n"
          ],
          "name": "stdout"
        }
      ]
    },
    {
      "cell_type": "markdown",
      "metadata": {
        "colab_type": "text",
        "id": "pyzqs7ljbqH0"
      },
      "source": [
        ""
      ]
    },
    {
      "cell_type": "markdown",
      "metadata": {
        "colab_type": "text",
        "id": "0ICRZ6YybxGK"
      },
      "source": [
        "### Low Learning Rate"
      ]
    },
    {
      "cell_type": "code",
      "metadata": {
        "colab_type": "code",
        "id": "VEs2MbaQbxGM",
        "colab": {}
      },
      "source": [
        "sgd = SGD(learning_rate=0.0001)"
      ],
      "execution_count": 65,
      "outputs": []
    },
    {
      "cell_type": "code",
      "metadata": {
        "colab_type": "code",
        "id": "gG_9g_0AbxGQ",
        "colab": {}
      },
      "source": [
        "model = Sequential([\n",
        "                    Dense(5, activation='sigmoid', input_dim=784),\n",
        "                    Dense(5, activation='sigmoid'), \n",
        "                    Dense(10, activation='softmax')\n",
        "])\n",
        "\n",
        "model.compile(optimizer=sgd, loss='sparse_categorical_crossentropy', metrics=['accuracy'])"
      ],
      "execution_count": 66,
      "outputs": []
    },
    {
      "cell_type": "code",
      "metadata": {
        "colab_type": "code",
        "id": "VB9OUxFZbxGS",
        "colab": {
          "base_uri": "https://localhost:8080/",
          "height": 887
        },
        "outputId": "64030c61-8d8c-4a67-d569-a87edf333adb"
      },
      "source": [
        "lr_low = model.fit(X_train, y_train, \n",
        "                       epochs=25,\n",
        "                       batch_size=64,\n",
        "                       validation_data=(X_test,y_test))"
      ],
      "execution_count": 67,
      "outputs": [
        {
          "output_type": "stream",
          "text": [
            "Epoch 1/25\n",
            "938/938 [==============================] - 2s 2ms/step - loss: 2.4182 - accuracy: 0.1022 - val_loss: 2.4137 - val_accuracy: 0.1010\n",
            "Epoch 2/25\n",
            "938/938 [==============================] - 2s 2ms/step - loss: 2.4030 - accuracy: 0.1022 - val_loss: 2.3988 - val_accuracy: 0.1010\n",
            "Epoch 3/25\n",
            "938/938 [==============================] - 2s 2ms/step - loss: 2.3882 - accuracy: 0.1022 - val_loss: 2.3819 - val_accuracy: 0.1010\n",
            "Epoch 4/25\n",
            "938/938 [==============================] - 2s 2ms/step - loss: 2.3716 - accuracy: 0.1022 - val_loss: 2.3656 - val_accuracy: 0.1010\n",
            "Epoch 5/25\n",
            "938/938 [==============================] - 2s 2ms/step - loss: 2.3582 - accuracy: 0.1022 - val_loss: 2.3538 - val_accuracy: 0.1010\n",
            "Epoch 6/25\n",
            "938/938 [==============================] - 2s 2ms/step - loss: 2.3484 - accuracy: 0.1022 - val_loss: 2.3457 - val_accuracy: 0.1010\n",
            "Epoch 7/25\n",
            "938/938 [==============================] - 2s 2ms/step - loss: 2.3416 - accuracy: 0.1022 - val_loss: 2.3401 - val_accuracy: 0.1010\n",
            "Epoch 8/25\n",
            "938/938 [==============================] - 2s 2ms/step - loss: 2.3363 - accuracy: 0.1022 - val_loss: 2.3354 - val_accuracy: 0.1010\n",
            "Epoch 9/25\n",
            "938/938 [==============================] - 2s 2ms/step - loss: 2.3320 - accuracy: 0.1022 - val_loss: 2.3315 - val_accuracy: 0.1010\n",
            "Epoch 10/25\n",
            "938/938 [==============================] - 2s 2ms/step - loss: 2.3281 - accuracy: 0.1022 - val_loss: 2.3280 - val_accuracy: 0.1010\n",
            "Epoch 11/25\n",
            "938/938 [==============================] - 2s 2ms/step - loss: 2.3246 - accuracy: 0.1022 - val_loss: 2.3245 - val_accuracy: 0.1010\n",
            "Epoch 12/25\n",
            "938/938 [==============================] - 2s 2ms/step - loss: 2.3213 - accuracy: 0.1022 - val_loss: 2.3213 - val_accuracy: 0.1010\n",
            "Epoch 13/25\n",
            "938/938 [==============================] - 2s 2ms/step - loss: 2.3181 - accuracy: 0.1022 - val_loss: 2.3183 - val_accuracy: 0.1010\n",
            "Epoch 14/25\n",
            "938/938 [==============================] - 2s 2ms/step - loss: 2.3151 - accuracy: 0.1022 - val_loss: 2.3154 - val_accuracy: 0.1010\n",
            "Epoch 15/25\n",
            "938/938 [==============================] - 2s 2ms/step - loss: 2.3122 - accuracy: 0.1022 - val_loss: 2.3126 - val_accuracy: 0.1010\n",
            "Epoch 16/25\n",
            "938/938 [==============================] - 2s 2ms/step - loss: 2.3095 - accuracy: 0.1022 - val_loss: 2.3097 - val_accuracy: 0.1010\n",
            "Epoch 17/25\n",
            "938/938 [==============================] - 2s 3ms/step - loss: 2.3068 - accuracy: 0.1022 - val_loss: 2.3070 - val_accuracy: 0.1010\n",
            "Epoch 18/25\n",
            "938/938 [==============================] - 2s 2ms/step - loss: 2.3041 - accuracy: 0.1022 - val_loss: 2.3043 - val_accuracy: 0.1010\n",
            "Epoch 19/25\n",
            "938/938 [==============================] - 2s 2ms/step - loss: 2.3016 - accuracy: 0.1022 - val_loss: 2.3017 - val_accuracy: 0.1010\n",
            "Epoch 20/25\n",
            "938/938 [==============================] - 2s 2ms/step - loss: 2.2993 - accuracy: 0.1022 - val_loss: 2.2994 - val_accuracy: 0.1010\n",
            "Epoch 21/25\n",
            "938/938 [==============================] - 2s 2ms/step - loss: 2.2970 - accuracy: 0.1022 - val_loss: 2.2970 - val_accuracy: 0.1010\n",
            "Epoch 22/25\n",
            "938/938 [==============================] - 2s 2ms/step - loss: 2.2948 - accuracy: 0.1022 - val_loss: 2.2947 - val_accuracy: 0.1010\n",
            "Epoch 23/25\n",
            "938/938 [==============================] - 2s 2ms/step - loss: 2.2926 - accuracy: 0.1022 - val_loss: 2.2925 - val_accuracy: 0.1010\n",
            "Epoch 24/25\n",
            "938/938 [==============================] - 2s 2ms/step - loss: 2.2905 - accuracy: 0.1022 - val_loss: 2.2902 - val_accuracy: 0.1010\n",
            "Epoch 25/25\n",
            "938/938 [==============================] - 2s 2ms/step - loss: 2.2884 - accuracy: 0.1022 - val_loss: 2.2879 - val_accuracy: 0.1010\n"
          ],
          "name": "stdout"
        }
      ]
    },
    {
      "cell_type": "markdown",
      "metadata": {
        "colab_type": "text",
        "id": "zeA9YHWfbxGU"
      },
      "source": [
        ""
      ]
    },
    {
      "cell_type": "markdown",
      "metadata": {
        "colab_type": "text",
        "id": "jnb-4i18b6Rq"
      },
      "source": [
        "### Visualization of Results"
      ]
    },
    {
      "cell_type": "code",
      "metadata": {
        "colab_type": "code",
        "id": "bqMaNaxvb6Rr",
        "colab": {}
      },
      "source": [
        "import seaborn as sns\n",
        "import pandas as pd"
      ],
      "execution_count": null,
      "outputs": []
    },
    {
      "cell_type": "code",
      "metadata": {
        "colab_type": "code",
        "id": "Sy3CIF2hb6Rx",
        "colab": {}
      },
      "source": [
        "default = pd.DataFrame.from_dict(lr_default.history)\n",
        "default['epoch'] = default.index.values\n",
        "default['lr_size'] = 'default'\n",
        "\n",
        "large = pd.DataFrame.from_dict(lr_high.history)\n",
        "large['epoch'] = large.index.values\n",
        "large['lr_size'] =  'high'\n",
        "\n",
        "small = pd.DataFrame.from_dict(lr_low.history)\n",
        "small['epoch'] = small.index.values\n",
        "small['lr_size'] = 'low'\n",
        "\n",
        "df = pd.concat([default,large, small])"
      ],
      "execution_count": 69,
      "outputs": []
    },
    {
      "cell_type": "markdown",
      "metadata": {
        "colab_type": "text",
        "id": "xY3M4Telb6Rz"
      },
      "source": [
        ""
      ]
    },
    {
      "cell_type": "code",
      "metadata": {
        "colab_type": "code",
        "id": "MOn_T5MNb6R0",
        "colab": {
          "base_uri": "https://localhost:8080/",
          "height": 204
        },
        "outputId": "2bbfdd48-db07-45f1-d13f-6092301b4a6a"
      },
      "source": [
        "df.head()"
      ],
      "execution_count": 70,
      "outputs": [
        {
          "output_type": "execute_result",
          "data": {
            "text/html": [
              "<div>\n",
              "<style scoped>\n",
              "    .dataframe tbody tr th:only-of-type {\n",
              "        vertical-align: middle;\n",
              "    }\n",
              "\n",
              "    .dataframe tbody tr th {\n",
              "        vertical-align: top;\n",
              "    }\n",
              "\n",
              "    .dataframe thead th {\n",
              "        text-align: right;\n",
              "    }\n",
              "</style>\n",
              "<table border=\"1\" class=\"dataframe\">\n",
              "  <thead>\n",
              "    <tr style=\"text-align: right;\">\n",
              "      <th></th>\n",
              "      <th>loss</th>\n",
              "      <th>accuracy</th>\n",
              "      <th>val_loss</th>\n",
              "      <th>val_accuracy</th>\n",
              "      <th>epoch</th>\n",
              "      <th>lr_size</th>\n",
              "    </tr>\n",
              "  </thead>\n",
              "  <tbody>\n",
              "    <tr>\n",
              "      <th>0</th>\n",
              "      <td>2.294540</td>\n",
              "      <td>0.200033</td>\n",
              "      <td>2.233032</td>\n",
              "      <td>0.2966</td>\n",
              "      <td>0</td>\n",
              "      <td>default</td>\n",
              "    </tr>\n",
              "    <tr>\n",
              "      <th>1</th>\n",
              "      <td>2.196878</td>\n",
              "      <td>0.338050</td>\n",
              "      <td>2.163320</td>\n",
              "      <td>0.3530</td>\n",
              "      <td>1</td>\n",
              "      <td>default</td>\n",
              "    </tr>\n",
              "    <tr>\n",
              "      <th>2</th>\n",
              "      <td>2.129591</td>\n",
              "      <td>0.402350</td>\n",
              "      <td>2.089933</td>\n",
              "      <td>0.4161</td>\n",
              "      <td>2</td>\n",
              "      <td>default</td>\n",
              "    </tr>\n",
              "    <tr>\n",
              "      <th>3</th>\n",
              "      <td>2.049754</td>\n",
              "      <td>0.481483</td>\n",
              "      <td>2.003803</td>\n",
              "      <td>0.4857</td>\n",
              "      <td>3</td>\n",
              "      <td>default</td>\n",
              "    </tr>\n",
              "    <tr>\n",
              "      <th>4</th>\n",
              "      <td>1.954829</td>\n",
              "      <td>0.528817</td>\n",
              "      <td>1.905571</td>\n",
              "      <td>0.5590</td>\n",
              "      <td>4</td>\n",
              "      <td>default</td>\n",
              "    </tr>\n",
              "  </tbody>\n",
              "</table>\n",
              "</div>"
            ],
            "text/plain": [
              "       loss  accuracy  val_loss  val_accuracy  epoch  lr_size\n",
              "0  2.294540  0.200033  2.233032        0.2966      0  default\n",
              "1  2.196878  0.338050  2.163320        0.3530      1  default\n",
              "2  2.129591  0.402350  2.089933        0.4161      2  default\n",
              "3  2.049754  0.481483  2.003803        0.4857      3  default\n",
              "4  1.954829  0.528817  1.905571        0.5590      4  default"
            ]
          },
          "metadata": {
            "tags": []
          },
          "execution_count": 70
        }
      ]
    },
    {
      "cell_type": "markdown",
      "metadata": {
        "colab_type": "text",
        "id": "ki7-tKYlb6R2"
      },
      "source": [
        ""
      ]
    },
    {
      "cell_type": "code",
      "metadata": {
        "colab_type": "code",
        "id": "Doa2j8unb6R2",
        "colab": {
          "base_uri": "https://localhost:8080/",
          "height": 296
        },
        "outputId": "9b7fe618-b76d-40ba-f88a-71b0b37007a7"
      },
      "source": [
        "sns.lineplot(x='epoch', y='loss', hue='lr_size', data=df)"
      ],
      "execution_count": 72,
      "outputs": [
        {
          "output_type": "execute_result",
          "data": {
            "text/plain": [
              "<matplotlib.axes._subplots.AxesSubplot at 0x7f3be55dd2e8>"
            ]
          },
          "metadata": {
            "tags": []
          },
          "execution_count": 72
        },
        {
          "output_type": "display_data",
          "data": {
            "image/png": "[encoded data removed]",
            "text/plain": [
              "<Figure size 432x288 with 1 Axes>"
            ]
          },
          "metadata": {
            "tags": [],
            "needs_background": "light"
          }
        }
      ]
    },
    {
      "cell_type": "code",
      "metadata": {
        "colab_type": "code",
        "id": "ygmV_iZVb6R4",
        "colab": {
          "base_uri": "https://localhost:8080/",
          "height": 296
        },
        "outputId": "69292f2a-9478-419e-d5de-776faf56b79a"
      },
      "source": [
        "sns.lineplot(x='epoch', y='val_loss', hue='lr_size', data=df)"
      ],
      "execution_count": 73,
      "outputs": [
        {
          "output_type": "execute_result",
          "data": {
            "text/plain": [
              "<matplotlib.axes._subplots.AxesSubplot at 0x7f3be9abc588>"
            ]
          },
          "metadata": {
            "tags": []
          },
          "execution_count": 73
        },
        {
          "output_type": "display_data",
          "data": {
            "image/png": "[encoded data removed]",
            "text/plain": [
              "<Figure size 432x288 with 1 Axes>"
            ]
          },
          "metadata": {
            "tags": [],
            "needs_background": "light"
          }
        }
      ]
    }
  ]
}