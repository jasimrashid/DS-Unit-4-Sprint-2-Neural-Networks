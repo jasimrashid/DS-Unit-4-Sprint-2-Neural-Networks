{
  "nbformat": 4,
  "nbformat_minor": 0,
  "metadata": {
    "colab": {
      "name": "LS_DS_432_TensorFlow_Assignment",
      "provenance": [],
      "collapsed_sections": [
        "s-Tc3ovEyQ9b"
      ],
      "include_colab_link": true
    },
    "kernelspec": {
      "name": "python3",
      "display_name": "Python 3"
    },
    "accelerator": "GPU"
  },
  "cells": [
    {
      "cell_type": "markdown",
      "metadata": {
        "id": "view-in-github",
        "colab_type": "text"
      },
      "source": [
        "<a href=\"https://colab.research.google.com/github/jasimrashid/DS-Unit-4-Sprint-2-Neural-Networks/blob/main/LS_DS_432_TensorFlow_Assignment.ipynb\" target=\"_parent\"><img src=\"https://colab.research.google.com/assets/colab-badge.svg\" alt=\"Open In Colab\"/></a>"
      ]
    },
    {
      "cell_type": "markdown",
      "metadata": {
        "id": "ObyHCH8HvHSf",
        "colab_type": "text"
      },
      "source": [
        "<img align=\"left\" src=\"https://lever-client-logos.s3.amazonaws.com/864372b1-534c-480e-acd5-9711f850815c-1524247202159.png\" width=200>\n",
        "<br></br>\n",
        "<br></br>\n",
        "\n",
        "# *Data Science Unit 4 Sprint 2 Assignment 2*\n",
        "\n",
        "Use TensorFlow Keras & a sample of the [Quickdraw dataset](https://github.com/googlecreativelab/quickdraw-dataset) to build a sketch classification model. The dataset has been sampled to only 10 classes and 10000 observations per class. Please build a baseline classification model then run a few experiments with different optimizers and learning rates. \n",
        "\n",
        "*Don't forgot to switch to GPU on Colab!*"
      ]
    },
    {
      "cell_type": "markdown",
      "metadata": {
        "id": "s-Tc3ovEyQ9b",
        "colab_type": "text"
      },
      "source": [
        "## Load Your Data"
      ]
    },
    {
      "cell_type": "code",
      "metadata": {
        "id": "NR8wtsnp7Dmz",
        "colab_type": "code",
        "colab": {
          "base_uri": "https://localhost:8080/",
          "height": 191
        },
        "outputId": "ccfee02a-6e62-4c3b-d731-bf7609e661fa"
      },
      "source": [
        "# insert where appropriate\n",
        "from sklearn.utils import shuffle\n",
        "X, y = shuffle(X, y)\n",
        "\n",
        "# insert where appropriate\n",
        "model.fit(X,y, epochs=30, validation_split=.2, shuffle=True)"
      ],
      "execution_count": 1,
      "outputs": [
        {
          "output_type": "error",
          "ename": "NameError",
          "evalue": "ignored",
          "traceback": [
            "\u001b[0;31m---------------------------------------------------------------------------\u001b[0m",
            "\u001b[0;31mNameError\u001b[0m                                 Traceback (most recent call last)",
            "\u001b[0;32m<ipython-input-1-f4026e6b55b8>\u001b[0m in \u001b[0;36m<module>\u001b[0;34m()\u001b[0m\n\u001b[1;32m      1\u001b[0m \u001b[0;31m# insert where appropriate\u001b[0m\u001b[0;34m\u001b[0m\u001b[0;34m\u001b[0m\u001b[0;34m\u001b[0m\u001b[0m\n\u001b[1;32m      2\u001b[0m \u001b[0;32mfrom\u001b[0m \u001b[0msklearn\u001b[0m\u001b[0;34m.\u001b[0m\u001b[0mutils\u001b[0m \u001b[0;32mimport\u001b[0m \u001b[0mshuffle\u001b[0m\u001b[0;34m\u001b[0m\u001b[0;34m\u001b[0m\u001b[0m\n\u001b[0;32m----> 3\u001b[0;31m \u001b[0mX\u001b[0m\u001b[0;34m,\u001b[0m \u001b[0my\u001b[0m \u001b[0;34m=\u001b[0m \u001b[0mshuffle\u001b[0m\u001b[0;34m(\u001b[0m\u001b[0mX\u001b[0m\u001b[0;34m,\u001b[0m \u001b[0my\u001b[0m\u001b[0;34m)\u001b[0m\u001b[0;34m\u001b[0m\u001b[0;34m\u001b[0m\u001b[0m\n\u001b[0m",
            "\u001b[0;31mNameError\u001b[0m: name 'X' is not defined"
          ]
        }
      ]
    },
    {
      "cell_type": "code",
      "metadata": {
        "id": "WSpxmzTihiSJ",
        "colab_type": "code",
        "colab": {}
      },
      "source": [
        "from sklearn.utils import shuffle\n",
        "X, y = shuffle(X, y)"
      ],
      "execution_count": 35,
      "outputs": []
    },
    {
      "cell_type": "code",
      "metadata": {
        "id": "CkU0pAYCvU8o",
        "colab_type": "code",
        "colab": {
          "base_uri": "https://localhost:8080/",
          "height": 50
        },
        "outputId": "bf51c6ca-5dd5-493a-856a-f93fc860e438"
      },
      "source": [
        "import numpy as np\n",
        "# data = np.load('./sample_data/quickdraw10.npz')\n",
        "# data = np.load('quickdraw10.npz', allow1_pickle=True)\n",
        "data = np.load('quickdraw10 (1).npz', allow_pickle=True)\n",
        "# data = np.load('quickdraw10.npz', allow_pickle = True)\n",
        "# data = np.loadtxt('quickdraw10.npz', delimiter=',')\n",
        "\n",
        "X = data['arr_0']\n",
        "y = data['arr_1']\n",
        "\n",
        "print(X.shape)\n",
        "print(y.shape)"
      ],
      "execution_count": 4,
      "outputs": [
        {
          "output_type": "stream",
          "text": [
            "(100000, 784)\n",
            "(100000,)\n"
          ],
          "name": "stdout"
        }
      ]
    },
    {
      "cell_type": "code",
      "metadata": {
        "id": "c8qsDqdqvHDd",
        "colab_type": "code",
        "colab": {}
      },
      "source": [
        "class_names = ['apple',\n",
        " 'anvil',\n",
        " 'airplane',\n",
        " 'banana',\n",
        " 'The Eiffel Tower',\n",
        " 'The Mona Lisa',\n",
        " 'The Great Wall of China',\n",
        " 'alarm clock',\n",
        " 'ant',\n",
        " 'asparagus']"
      ],
      "execution_count": 5,
      "outputs": []
    },
    {
      "cell_type": "code",
      "metadata": {
        "id": "Owbm1EbxvA5A",
        "colab_type": "code",
        "colab": {
          "base_uri": "https://localhost:8080/",
          "height": 288
        },
        "outputId": "022ad432-c648-44d4-9f06-a1f5e421c9e1"
      },
      "source": [
        "import matplotlib.pyplot as plt\n",
        "plt.figure(figsize=(10,5))\n",
        "start = 0\n",
        "\n",
        "for num, name in enumerate(class_names):\n",
        "    plt.subplot(2,5, num+1)\n",
        "    plt.xticks([])\n",
        "    plt.yticks([])\n",
        "    plt.grid(False)\n",
        "    plt.imshow(X[start].reshape(28,28), cmap=plt.cm.binary)\n",
        "    plt.xlabel(name)\n",
        "    start += 10000\n",
        "plt.show()"
      ],
      "execution_count": 7,
      "outputs": [
        {
          "output_type": "display_data",
          "data": {
            "image/png": "[encoded data removed]",
            "text/plain": [
              "<Figure size 720x360 with 10 Axes>"
            ]
          },
          "metadata": {
            "tags": []
          }
        }
      ]
    },
    {
      "cell_type": "markdown",
      "metadata": {
        "id": "jb70CbLVyK65",
        "colab_type": "text"
      },
      "source": [
        "## Build Your Baseline Model\n",
        "Some Hints:\n",
        "\n",
        "\n",
        "*  Model should have 784 input values (like mnist)\n",
        "*  Use `sparse_categorical_crossentropy` as your loss function.\n",
        "* You need 10 neurons in your last layer for output\n",
        "* You can add as many hidden layers with as many neurons in them as you like. \n",
        "* The default batchsize should be fine for this exercise.\n",
        "* Limit your model epochs to 30 each time you fit.\n",
        "\n"
      ]
    },
    {
      "cell_type": "code",
      "metadata": {
        "id": "hurX3PZnE7c6",
        "colab_type": "code",
        "colab": {}
      },
      "source": [
        "from tensorflow.keras.layers import Dense\n",
        "from tensorflow.keras.models import Sequential\n",
        "from tensorflow.keras.optimizers import SGD, Adam"
      ],
      "execution_count": 17,
      "outputs": []
    },
    {
      "cell_type": "code",
      "metadata": {
        "id": "zHWblzsMyNkU",
        "colab_type": "code",
        "colab": {}
      },
      "source": [
        "model = Sequential([\n",
        "                    Dense(5, activation='sigmoid', input_dim=784),\n",
        "                    Dense(5, activation='sigmoid'), \n",
        "                    Dense(10, activation='softmax')\n",
        "])\n",
        "\n",
        "# question 5 what does it correspond to?"
      ],
      "execution_count": 10,
      "outputs": []
    },
    {
      "cell_type": "code",
      "metadata": {
        "id": "PAfx2_pUFDva",
        "colab_type": "code",
        "colab": {}
      },
      "source": [
        "# Compile the model\n",
        "model.compile(optimizer=SGD(), loss='sparse_categorical_crossentropy', metrics=['accuracy'])"
      ],
      "execution_count": 11,
      "outputs": []
    },
    {
      "cell_type": "code",
      "metadata": {
        "id": "xQeCnUHhG6CF",
        "colab_type": "code",
        "colab": {
          "base_uri": "https://localhost:8080/",
          "height": 245
        },
        "outputId": "bde0acad-6932-47b0-da9b-0e0bc2431e25"
      },
      "source": [
        "model.summary()"
      ],
      "execution_count": 12,
      "outputs": [
        {
          "output_type": "stream",
          "text": [
            "Model: \"sequential_1\"\n",
            "_________________________________________________________________\n",
            "Layer (type)                 Output Shape              Param #   \n",
            "=================================================================\n",
            "dense_3 (Dense)              (None, 5)                 3925      \n",
            "_________________________________________________________________\n",
            "dense_4 (Dense)              (None, 5)                 30        \n",
            "_________________________________________________________________\n",
            "dense_5 (Dense)              (None, 10)                60        \n",
            "=================================================================\n",
            "Total params: 4,015\n",
            "Trainable params: 4,015\n",
            "Non-trainable params: 0\n",
            "_________________________________________________________________\n"
          ],
          "name": "stdout"
        }
      ]
    },
    {
      "cell_type": "code",
      "metadata": {
        "id": "NEZUEuT7Iym4",
        "colab_type": "code",
        "colab": {
          "base_uri": "https://localhost:8080/",
          "height": 1000
        },
        "outputId": "0822336d-6b48-4262-9b11-7b5b6941ecd1"
      },
      "source": [
        "# insert where appropriate\n",
        "model.fit(X,y, epochs=30, validation_split=.2, shuffle=True)"
      ],
      "execution_count": 14,
      "outputs": [
        {
          "output_type": "stream",
          "text": [
            "Epoch 1/30\n",
            "2500/2500 [==============================] - 5s 2ms/step - loss: 2.0192 - accuracy: 0.2577 - val_loss: 4.3947 - val_accuracy: 0.0000e+00\n",
            "Epoch 2/30\n",
            "2500/2500 [==============================] - 5s 2ms/step - loss: 1.7794 - accuracy: 0.4275 - val_loss: 5.2075 - val_accuracy: 0.0000e+00\n",
            "Epoch 3/30\n",
            "2500/2500 [==============================] - 5s 2ms/step - loss: 1.6614 - accuracy: 0.4743 - val_loss: 5.7112 - val_accuracy: 0.0000e+00\n",
            "Epoch 4/30\n",
            "2500/2500 [==============================] - 5s 2ms/step - loss: 1.5668 - accuracy: 0.5147 - val_loss: 6.1101 - val_accuracy: 0.0000e+00\n",
            "Epoch 5/30\n",
            "2500/2500 [==============================] - 5s 2ms/step - loss: 1.4856 - accuracy: 0.5147 - val_loss: 6.3649 - val_accuracy: 0.0000e+00\n",
            "Epoch 6/30\n",
            "2500/2500 [==============================] - 5s 2ms/step - loss: 1.4510 - accuracy: 0.4851 - val_loss: 6.5320 - val_accuracy: 0.0000e+00\n",
            "Epoch 7/30\n",
            "2500/2500 [==============================] - 5s 2ms/step - loss: 1.3891 - accuracy: 0.5272 - val_loss: 6.8921 - val_accuracy: 0.0000e+00\n",
            "Epoch 8/30\n",
            "2500/2500 [==============================] - 5s 2ms/step - loss: 1.3494 - accuracy: 0.5393 - val_loss: 7.0974 - val_accuracy: 0.0000e+00\n",
            "Epoch 9/30\n",
            "2500/2500 [==============================] - 5s 2ms/step - loss: 1.3076 - accuracy: 0.5792 - val_loss: 7.1705 - val_accuracy: 0.0000e+00\n",
            "Epoch 10/30\n",
            "2500/2500 [==============================] - 6s 2ms/step - loss: 1.2733 - accuracy: 0.5933 - val_loss: 7.2165 - val_accuracy: 0.0000e+00\n",
            "Epoch 11/30\n",
            "2500/2500 [==============================] - 5s 2ms/step - loss: 1.2657 - accuracy: 0.5846 - val_loss: 7.4459 - val_accuracy: 0.0000e+00\n",
            "Epoch 12/30\n",
            "2500/2500 [==============================] - 5s 2ms/step - loss: 1.2363 - accuracy: 0.5979 - val_loss: 7.5189 - val_accuracy: 0.0000e+00\n",
            "Epoch 13/30\n",
            "2500/2500 [==============================] - 5s 2ms/step - loss: 1.2278 - accuracy: 0.6023 - val_loss: 7.8108 - val_accuracy: 0.0000e+00\n",
            "Epoch 14/30\n",
            "2500/2500 [==============================] - 5s 2ms/step - loss: 1.2325 - accuracy: 0.5977 - val_loss: 8.0610 - val_accuracy: 0.0000e+00\n",
            "Epoch 15/30\n",
            "2500/2500 [==============================] - 5s 2ms/step - loss: 1.1961 - accuracy: 0.6069 - val_loss: 7.7994 - val_accuracy: 0.0000e+00\n",
            "Epoch 16/30\n",
            "2500/2500 [==============================] - 5s 2ms/step - loss: 1.1781 - accuracy: 0.6119 - val_loss: 7.8767 - val_accuracy: 0.0000e+00\n",
            "Epoch 17/30\n",
            "2500/2500 [==============================] - 5s 2ms/step - loss: 1.1935 - accuracy: 0.6019 - val_loss: 7.8570 - val_accuracy: 0.0000e+00\n",
            "Epoch 18/30\n",
            "2500/2500 [==============================] - 5s 2ms/step - loss: 1.1960 - accuracy: 0.6022 - val_loss: 8.2826 - val_accuracy: 0.0000e+00\n",
            "Epoch 19/30\n",
            "2500/2500 [==============================] - 5s 2ms/step - loss: 1.1731 - accuracy: 0.6126 - val_loss: 8.2774 - val_accuracy: 0.0000e+00\n",
            "Epoch 20/30\n",
            "2500/2500 [==============================] - 5s 2ms/step - loss: 1.1666 - accuracy: 0.6068 - val_loss: 8.1004 - val_accuracy: 0.0000e+00\n",
            "Epoch 21/30\n",
            "2500/2500 [==============================] - 5s 2ms/step - loss: 1.1728 - accuracy: 0.6161 - val_loss: 8.0531 - val_accuracy: 0.0000e+00\n",
            "Epoch 22/30\n",
            "2500/2500 [==============================] - 5s 2ms/step - loss: 1.1627 - accuracy: 0.6114 - val_loss: 8.4275 - val_accuracy: 0.0000e+00\n",
            "Epoch 23/30\n",
            "2500/2500 [==============================] - 5s 2ms/step - loss: 1.1774 - accuracy: 0.6039 - val_loss: 8.3384 - val_accuracy: 0.0000e+00\n",
            "Epoch 24/30\n",
            "2500/2500 [==============================] - 5s 2ms/step - loss: 1.1683 - accuracy: 0.5908 - val_loss: 8.2156 - val_accuracy: 0.0000e+00\n",
            "Epoch 25/30\n",
            "2500/2500 [==============================] - 5s 2ms/step - loss: 1.1575 - accuracy: 0.6033 - val_loss: 8.2853 - val_accuracy: 0.0000e+00\n",
            "Epoch 26/30\n",
            "2500/2500 [==============================] - 5s 2ms/step - loss: 1.1389 - accuracy: 0.6231 - val_loss: 8.3347 - val_accuracy: 0.0000e+00\n",
            "Epoch 27/30\n",
            "2500/2500 [==============================] - 5s 2ms/step - loss: 1.1438 - accuracy: 0.6241 - val_loss: 8.2450 - val_accuracy: 0.0000e+00\n",
            "Epoch 28/30\n",
            "2500/2500 [==============================] - 5s 2ms/step - loss: 1.1462 - accuracy: 0.6288 - val_loss: 8.3920 - val_accuracy: 0.0000e+00\n",
            "Epoch 29/30\n",
            "2500/2500 [==============================] - 5s 2ms/step - loss: 1.1508 - accuracy: 0.6297 - val_loss: 8.5119 - val_accuracy: 0.0000e+00\n",
            "Epoch 30/30\n",
            "2500/2500 [==============================] - 5s 2ms/step - loss: 1.1381 - accuracy: 0.6356 - val_loss: 8.5805 - val_accuracy: 0.0000e+00\n"
          ],
          "name": "stdout"
        },
        {
          "output_type": "execute_result",
          "data": {
            "text/plain": [
              "<tensorflow.python.keras.callbacks.History at 0x7fa6b21aad68>"
            ]
          },
          "metadata": {
            "tags": []
          },
          "execution_count": 14
        }
      ]
    },
    {
      "cell_type": "markdown",
      "metadata": {
        "id": "MAhBrcE4yOZe",
        "colab_type": "text"
      },
      "source": [
        "## Change Optimizers\n",
        "Try using the keras `adam` optimizer instead of `sgd` in your model. Visualize the difference in validation loss between the models with different optimizers. "
      ]
    },
    {
      "cell_type": "code",
      "metadata": {
        "id": "MFRqucDpGci4",
        "colab_type": "code",
        "colab": {}
      },
      "source": [
        "model = Sequential([\n",
        "                    Dense(5, activation='sigmoid', input_dim=784),\n",
        "                    Dense(5, activation='sigmoid'), \n",
        "                    Dense(10, activation='softmax')\n",
        "])\n",
        "\n",
        "# question 5 what does it correspond to?"
      ],
      "execution_count": 15,
      "outputs": []
    },
    {
      "cell_type": "code",
      "metadata": {
        "id": "jIW_spOZ0cxy",
        "colab_type": "code",
        "colab": {}
      },
      "source": [
        "# Compile the model\n",
        "# model.compile(optimizer=SGD(), loss='sparse_categorical_crossentropy', metrics=['accuracy'])\n",
        "model.compile(optimizer=Adam(), loss='sparse_categorical_crossentropy', metrics=['accuracy'])"
      ],
      "execution_count": 18,
      "outputs": []
    },
    {
      "cell_type": "code",
      "metadata": {
        "id": "5f-n7BnPKnKQ",
        "colab_type": "code",
        "colab": {
          "base_uri": "https://localhost:8080/",
          "height": 245
        },
        "outputId": "b6c0b08c-1100-48fa-aad2-7a52e3b9e2b2"
      },
      "source": [
        "model.summary()"
      ],
      "execution_count": 19,
      "outputs": [
        {
          "output_type": "stream",
          "text": [
            "Model: \"sequential_2\"\n",
            "_________________________________________________________________\n",
            "Layer (type)                 Output Shape              Param #   \n",
            "=================================================================\n",
            "dense_6 (Dense)              (None, 5)                 3925      \n",
            "_________________________________________________________________\n",
            "dense_7 (Dense)              (None, 5)                 30        \n",
            "_________________________________________________________________\n",
            "dense_8 (Dense)              (None, 10)                60        \n",
            "=================================================================\n",
            "Total params: 4,015\n",
            "Trainable params: 4,015\n",
            "Non-trainable params: 0\n",
            "_________________________________________________________________\n"
          ],
          "name": "stdout"
        }
      ]
    },
    {
      "cell_type": "code",
      "metadata": {
        "id": "BGo5KBUKKpBI",
        "colab_type": "code",
        "colab": {
          "base_uri": "https://localhost:8080/",
          "height": 1000
        },
        "outputId": "3536dbbd-afe7-4e02-fc0e-f60f89aeb0b7"
      },
      "source": [
        "# insert where appropriate\n",
        "model.fit(X,y, epochs=30, validation_split=.2, shuffle=True)"
      ],
      "execution_count": 20,
      "outputs": [
        {
          "output_type": "stream",
          "text": [
            "Epoch 1/30\n",
            "2500/2500 [==============================] - 5s 2ms/step - loss: 1.7235 - accuracy: 0.3718 - val_loss: 6.5351 - val_accuracy: 0.0000e+00\n",
            "Epoch 2/30\n",
            "2500/2500 [==============================] - 5s 2ms/step - loss: 1.4312 - accuracy: 0.4377 - val_loss: 8.2946 - val_accuracy: 0.0000e+00\n",
            "Epoch 3/30\n",
            "2500/2500 [==============================] - 5s 2ms/step - loss: 1.3262 - accuracy: 0.4818 - val_loss: 9.5891 - val_accuracy: 0.0000e+00\n",
            "Epoch 4/30\n",
            "2500/2500 [==============================] - 5s 2ms/step - loss: 1.2769 - accuracy: 0.5042 - val_loss: 10.8852 - val_accuracy: 0.0000e+00\n",
            "Epoch 5/30\n",
            "2500/2500 [==============================] - 6s 2ms/step - loss: 1.2509 - accuracy: 0.5432 - val_loss: 11.6883 - val_accuracy: 0.0000e+00\n",
            "Epoch 6/30\n",
            "2500/2500 [==============================] - 6s 2ms/step - loss: 1.1994 - accuracy: 0.5845 - val_loss: 13.4200 - val_accuracy: 0.0000e+00\n",
            "Epoch 7/30\n",
            "2500/2500 [==============================] - 6s 2ms/step - loss: 1.1930 - accuracy: 0.5488 - val_loss: 14.6950 - val_accuracy: 0.0000e+00\n",
            "Epoch 8/30\n",
            "2500/2500 [==============================] - 5s 2ms/step - loss: 1.1773 - accuracy: 0.5688 - val_loss: 16.2472 - val_accuracy: 0.0000e+00\n",
            "Epoch 9/30\n",
            "2500/2500 [==============================] - 5s 2ms/step - loss: 1.1582 - accuracy: 0.5621 - val_loss: 17.8472 - val_accuracy: 0.0000e+00\n",
            "Epoch 10/30\n",
            "2500/2500 [==============================] - 5s 2ms/step - loss: 1.1344 - accuracy: 0.5857 - val_loss: 18.8298 - val_accuracy: 0.0000e+00\n",
            "Epoch 11/30\n",
            "2500/2500 [==============================] - 5s 2ms/step - loss: 1.1340 - accuracy: 0.6028 - val_loss: 19.6182 - val_accuracy: 0.0000e+00\n",
            "Epoch 12/30\n",
            "2500/2500 [==============================] - 5s 2ms/step - loss: 1.1363 - accuracy: 0.5898 - val_loss: 20.4162 - val_accuracy: 0.0000e+00\n",
            "Epoch 13/30\n",
            "2500/2500 [==============================] - 5s 2ms/step - loss: 1.1284 - accuracy: 0.5940 - val_loss: 20.9674 - val_accuracy: 0.0000e+00\n",
            "Epoch 14/30\n",
            "2500/2500 [==============================] - 5s 2ms/step - loss: 1.1120 - accuracy: 0.6144 - val_loss: 21.3534 - val_accuracy: 0.0000e+00\n",
            "Epoch 15/30\n",
            "2500/2500 [==============================] - 5s 2ms/step - loss: 1.0986 - accuracy: 0.6251 - val_loss: 21.6405 - val_accuracy: 0.0000e+00\n",
            "Epoch 16/30\n",
            "2500/2500 [==============================] - 5s 2ms/step - loss: 1.0964 - accuracy: 0.6267 - val_loss: 21.9115 - val_accuracy: 0.0000e+00\n",
            "Epoch 17/30\n",
            "2500/2500 [==============================] - 5s 2ms/step - loss: 1.0810 - accuracy: 0.6359 - val_loss: 21.9907 - val_accuracy: 0.0000e+00\n",
            "Epoch 18/30\n",
            "2500/2500 [==============================] - 5s 2ms/step - loss: 1.0801 - accuracy: 0.6390 - val_loss: 22.0631 - val_accuracy: 0.0000e+00\n",
            "Epoch 19/30\n",
            "2500/2500 [==============================] - 5s 2ms/step - loss: 1.0767 - accuracy: 0.6346 - val_loss: 22.0549 - val_accuracy: 0.0000e+00\n",
            "Epoch 20/30\n",
            "2500/2500 [==============================] - 5s 2ms/step - loss: 1.0697 - accuracy: 0.6399 - val_loss: 22.2157 - val_accuracy: 0.0000e+00\n",
            "Epoch 21/30\n",
            "2500/2500 [==============================] - 5s 2ms/step - loss: 1.0690 - accuracy: 0.6340 - val_loss: 22.5252 - val_accuracy: 0.0000e+00\n",
            "Epoch 22/30\n",
            "2500/2500 [==============================] - 5s 2ms/step - loss: 1.0525 - accuracy: 0.6499 - val_loss: 22.7053 - val_accuracy: 0.0000e+00\n",
            "Epoch 23/30\n",
            "2500/2500 [==============================] - 5s 2ms/step - loss: 1.0495 - accuracy: 0.6568 - val_loss: 22.5007 - val_accuracy: 0.0000e+00\n",
            "Epoch 24/30\n",
            "2500/2500 [==============================] - 5s 2ms/step - loss: 1.0523 - accuracy: 0.6595 - val_loss: 22.6489 - val_accuracy: 0.0000e+00\n",
            "Epoch 25/30\n",
            "2500/2500 [==============================] - 5s 2ms/step - loss: 1.0463 - accuracy: 0.6594 - val_loss: 22.6899 - val_accuracy: 0.0000e+00\n",
            "Epoch 26/30\n",
            "2500/2500 [==============================] - 5s 2ms/step - loss: 1.0494 - accuracy: 0.6629 - val_loss: 23.1038 - val_accuracy: 0.0000e+00\n",
            "Epoch 27/30\n",
            "2500/2500 [==============================] - 6s 2ms/step - loss: 1.0592 - accuracy: 0.6538 - val_loss: 23.1043 - val_accuracy: 0.0000e+00\n",
            "Epoch 28/30\n",
            "2500/2500 [==============================] - 5s 2ms/step - loss: 1.0332 - accuracy: 0.6643 - val_loss: 23.2400 - val_accuracy: 0.0000e+00\n",
            "Epoch 29/30\n",
            "2500/2500 [==============================] - 5s 2ms/step - loss: 1.0470 - accuracy: 0.6595 - val_loss: 23.3539 - val_accuracy: 0.0000e+00\n",
            "Epoch 30/30\n",
            "2500/2500 [==============================] - 5s 2ms/step - loss: 1.0369 - accuracy: 0.6609 - val_loss: 23.3157 - val_accuracy: 0.0000e+00\n"
          ],
          "name": "stdout"
        },
        {
          "output_type": "execute_result",
          "data": {
            "text/plain": [
              "<tensorflow.python.keras.callbacks.History at 0x7fa6a256add8>"
            ]
          },
          "metadata": {
            "tags": []
          },
          "execution_count": 20
        }
      ]
    },
    {
      "cell_type": "markdown",
      "metadata": {
        "id": "ZgZvcEyu0dWb",
        "colab_type": "text"
      },
      "source": [
        "## Optimize Learning Rate\n",
        "Using the optimizer your picked in the previous step, begin tuning the learning rate within that optimizer. Try manually choosing 3-5 learning rate.values. \n"
      ]
    },
    {
      "cell_type": "code",
      "metadata": {
        "id": "aUQHcjHU1KLf",
        "colab_type": "code",
        "colab": {}
      },
      "source": [
        "adam = Adam(learning_rate = 0.01)\n",
        "    \n",
        "# default learning rate: 0.001\n",
        "# low LR = 0.0001 - opt_adam_1\n",
        "# higher LR = 0.01 - opt_adam\n",
        "# default LR = 0.001\n",
        "\n"
      ],
      "execution_count": 26,
      "outputs": []
    },
    {
      "cell_type": "code",
      "metadata": {
        "id": "UtV7IZDhQh6b",
        "colab_type": "code",
        "colab": {}
      },
      "source": [
        "# opt_adam: higher LR\n",
        "model = Sequential([\n",
        "                    Dense(5, activation='sigmoid', input_dim=784),\n",
        "                    Dense(5, activation='sigmoid'), \n",
        "                    Dense(10, activation='softmax')\n",
        "])\n",
        "\n",
        "model.compile(optimizer=adam, loss='sparse_categorical_crossentropy', metrics=['accuracy'])\n"
      ],
      "execution_count": 27,
      "outputs": []
    },
    {
      "cell_type": "code",
      "metadata": {
        "id": "4OKf2rqVQrnl",
        "colab_type": "code",
        "colab": {
          "base_uri": "https://localhost:8080/",
          "height": 1000
        },
        "outputId": "1bde2eba-a74a-4846-8f42-860a4af9a680"
      },
      "source": [
        "opt_adam = model.fit(X,y, epochs=30, validation_split=.2, shuffle=True)"
      ],
      "execution_count": 28,
      "outputs": [
        {
          "output_type": "stream",
          "text": [
            "Epoch 1/30\n",
            "2500/2500 [==============================] - 6s 2ms/step - loss: 1.7339 - accuracy: 0.3263 - val_loss: 10.4019 - val_accuracy: 0.0000e+00\n",
            "Epoch 2/30\n",
            "2500/2500 [==============================] - 5s 2ms/step - loss: 1.6046 - accuracy: 0.3716 - val_loss: 11.9586 - val_accuracy: 0.0000e+00\n",
            "Epoch 3/30\n",
            "2500/2500 [==============================] - 5s 2ms/step - loss: 1.5317 - accuracy: 0.3975 - val_loss: 13.2850 - val_accuracy: 0.0000e+00\n",
            "Epoch 4/30\n",
            "2500/2500 [==============================] - 5s 2ms/step - loss: 1.5740 - accuracy: 0.3705 - val_loss: 13.3268 - val_accuracy: 0.0000e+00\n",
            "Epoch 5/30\n",
            "2500/2500 [==============================] - 5s 2ms/step - loss: 1.5791 - accuracy: 0.3844 - val_loss: 14.5508 - val_accuracy: 0.0000e+00\n",
            "Epoch 6/30\n",
            "2500/2500 [==============================] - 5s 2ms/step - loss: 1.5855 - accuracy: 0.3645 - val_loss: 18.3062 - val_accuracy: 0.0000e+00\n",
            "Epoch 7/30\n",
            "2500/2500 [==============================] - 5s 2ms/step - loss: 1.4958 - accuracy: 0.4053 - val_loss: 19.4901 - val_accuracy: 0.0000e+00\n",
            "Epoch 8/30\n",
            "2500/2500 [==============================] - 5s 2ms/step - loss: 1.4663 - accuracy: 0.4178 - val_loss: 18.4971 - val_accuracy: 0.0000e+00\n",
            "Epoch 9/30\n",
            "2500/2500 [==============================] - 5s 2ms/step - loss: 1.4912 - accuracy: 0.4169 - val_loss: 19.8824 - val_accuracy: 0.0000e+00\n",
            "Epoch 10/30\n",
            "2500/2500 [==============================] - 5s 2ms/step - loss: 1.5332 - accuracy: 0.3987 - val_loss: 23.9381 - val_accuracy: 0.0000e+00\n",
            "Epoch 11/30\n",
            "2500/2500 [==============================] - 5s 2ms/step - loss: 1.5449 - accuracy: 0.3820 - val_loss: 23.7152 - val_accuracy: 0.0000e+00\n",
            "Epoch 12/30\n",
            "2500/2500 [==============================] - 6s 2ms/step - loss: 1.5024 - accuracy: 0.4006 - val_loss: 23.8997 - val_accuracy: 0.0000e+00\n",
            "Epoch 13/30\n",
            "2500/2500 [==============================] - 6s 2ms/step - loss: 1.4989 - accuracy: 0.4092 - val_loss: 23.6469 - val_accuracy: 0.0000e+00\n",
            "Epoch 14/30\n",
            "2500/2500 [==============================] - 6s 2ms/step - loss: 1.4886 - accuracy: 0.4103 - val_loss: 23.5793 - val_accuracy: 0.0000e+00\n",
            "Epoch 15/30\n",
            "2500/2500 [==============================] - 5s 2ms/step - loss: 1.5194 - accuracy: 0.3907 - val_loss: 21.8979 - val_accuracy: 0.0000e+00\n",
            "Epoch 16/30\n",
            "2500/2500 [==============================] - 5s 2ms/step - loss: 1.5068 - accuracy: 0.3968 - val_loss: 22.5121 - val_accuracy: 0.0000e+00\n",
            "Epoch 17/30\n",
            "2500/2500 [==============================] - 5s 2ms/step - loss: 1.5059 - accuracy: 0.4001 - val_loss: 21.9829 - val_accuracy: 0.0000e+00\n",
            "Epoch 18/30\n",
            "2500/2500 [==============================] - 5s 2ms/step - loss: 1.4838 - accuracy: 0.4121 - val_loss: 23.0662 - val_accuracy: 0.0000e+00\n",
            "Epoch 19/30\n",
            "2500/2500 [==============================] - 5s 2ms/step - loss: 1.4844 - accuracy: 0.4110 - val_loss: 24.0709 - val_accuracy: 0.0000e+00\n",
            "Epoch 20/30\n",
            "2500/2500 [==============================] - 5s 2ms/step - loss: 1.4793 - accuracy: 0.4097 - val_loss: 23.2592 - val_accuracy: 0.0000e+00\n",
            "Epoch 21/30\n",
            "2500/2500 [==============================] - 5s 2ms/step - loss: 1.5013 - accuracy: 0.3996 - val_loss: 24.0645 - val_accuracy: 0.0000e+00\n",
            "Epoch 22/30\n",
            "2500/2500 [==============================] - 5s 2ms/step - loss: 1.5078 - accuracy: 0.3897 - val_loss: 24.4347 - val_accuracy: 0.0000e+00\n",
            "Epoch 23/30\n",
            "2500/2500 [==============================] - 5s 2ms/step - loss: 1.4677 - accuracy: 0.4138 - val_loss: 25.1780 - val_accuracy: 0.0000e+00\n",
            "Epoch 24/30\n",
            "2500/2500 [==============================] - 6s 2ms/step - loss: 1.4540 - accuracy: 0.4215 - val_loss: 25.1910 - val_accuracy: 0.0000e+00\n",
            "Epoch 25/30\n",
            "2500/2500 [==============================] - 5s 2ms/step - loss: 1.4325 - accuracy: 0.4267 - val_loss: 25.1245 - val_accuracy: 0.0000e+00\n",
            "Epoch 26/30\n",
            "2500/2500 [==============================] - 6s 2ms/step - loss: 1.4540 - accuracy: 0.4235 - val_loss: 25.6336 - val_accuracy: 0.0000e+00\n",
            "Epoch 27/30\n",
            "2500/2500 [==============================] - 6s 2ms/step - loss: 1.4504 - accuracy: 0.4239 - val_loss: 25.2266 - val_accuracy: 0.0000e+00\n",
            "Epoch 28/30\n",
            "2500/2500 [==============================] - 6s 2ms/step - loss: 1.4397 - accuracy: 0.4205 - val_loss: 24.5302 - val_accuracy: 0.0000e+00\n",
            "Epoch 29/30\n",
            "2500/2500 [==============================] - 6s 2ms/step - loss: 1.4208 - accuracy: 0.4338 - val_loss: 24.2084 - val_accuracy: 0.0000e+00\n",
            "Epoch 30/30\n",
            "2500/2500 [==============================] - 5s 2ms/step - loss: 1.4288 - accuracy: 0.4291 - val_loss: 24.3221 - val_accuracy: 0.0000e+00\n"
          ],
          "name": "stdout"
        }
      ]
    },
    {
      "cell_type": "code",
      "metadata": {
        "id": "ecdPCL-FSDkf",
        "colab_type": "code",
        "colab": {
          "base_uri": "https://localhost:8080/",
          "height": 1000
        },
        "outputId": "8f773196-ee4e-48e9-c272-0f650152b49f"
      },
      "source": [
        "# \n",
        "adam = Adam(learning_rate = 0.001)\n",
        "\n",
        "# opt_adam: higher LR\n",
        "model = Sequential([\n",
        "                    Dense(15, activation='sigmoid', input_dim=784),\n",
        "                    Dense(15, activation='sigmoid'),\n",
        "                    Dense(10, activation='softmax')\n",
        "])\n",
        "\n",
        "model.compile(optimizer=adam, loss='sparse_categorical_crossentropy', metrics=['accuracy'])\n",
        "\n",
        "opt_adam_1 = model.fit(X,y, epochs=30, validation_split=.2)\n",
        "\n",
        "    \n",
        "# default learning rate: 0.001\n",
        "# low LR = 0.0001 - opt_adam_1\n",
        "# higher LR = 0.01 - opt_adam\n",
        "# default LR = 0.001\n"
      ],
      "execution_count": 40,
      "outputs": [
        {
          "output_type": "stream",
          "text": [
            "Epoch 1/30\n",
            "2500/2500 [==============================] - 6s 2ms/step - loss: 1.6007 - accuracy: 0.4836 - val_loss: 1.3014 - val_accuracy: 0.5594\n",
            "Epoch 2/30\n",
            "2500/2500 [==============================] - 6s 2ms/step - loss: 1.2524 - accuracy: 0.5802 - val_loss: 1.2165 - val_accuracy: 0.5935\n",
            "Epoch 3/30\n",
            "2500/2500 [==============================] - 5s 2ms/step - loss: 1.1457 - accuracy: 0.6281 - val_loss: 1.1918 - val_accuracy: 0.6055\n",
            "Epoch 4/30\n",
            "2500/2500 [==============================] - 6s 2ms/step - loss: 1.0862 - accuracy: 0.6564 - val_loss: 1.0909 - val_accuracy: 0.6603\n",
            "Epoch 5/30\n",
            "2500/2500 [==============================] - 6s 2ms/step - loss: 1.0366 - accuracy: 0.6761 - val_loss: 1.0054 - val_accuracy: 0.6797\n",
            "Epoch 6/30\n",
            "2500/2500 [==============================] - 5s 2ms/step - loss: 1.0138 - accuracy: 0.6794 - val_loss: 0.9928 - val_accuracy: 0.6863\n",
            "Epoch 7/30\n",
            "2500/2500 [==============================] - 5s 2ms/step - loss: 0.9770 - accuracy: 0.6959 - val_loss: 0.9828 - val_accuracy: 0.6953\n",
            "Epoch 8/30\n",
            "2500/2500 [==============================] - 5s 2ms/step - loss: 0.9655 - accuracy: 0.6997 - val_loss: 0.9656 - val_accuracy: 0.6955\n",
            "Epoch 9/30\n",
            "2500/2500 [==============================] - 5s 2ms/step - loss: 0.9643 - accuracy: 0.7003 - val_loss: 0.9263 - val_accuracy: 0.7161\n",
            "Epoch 10/30\n",
            "2500/2500 [==============================] - 5s 2ms/step - loss: 0.9688 - accuracy: 0.6976 - val_loss: 0.9609 - val_accuracy: 0.7002\n",
            "Epoch 11/30\n",
            "2500/2500 [==============================] - 5s 2ms/step - loss: 0.9373 - accuracy: 0.7071 - val_loss: 0.9203 - val_accuracy: 0.7157\n",
            "Epoch 12/30\n",
            "2500/2500 [==============================] - 5s 2ms/step - loss: 0.9484 - accuracy: 0.7036 - val_loss: 0.9799 - val_accuracy: 0.6899\n",
            "Epoch 13/30\n",
            "2500/2500 [==============================] - 5s 2ms/step - loss: 0.9351 - accuracy: 0.7115 - val_loss: 0.9518 - val_accuracy: 0.7023\n",
            "Epoch 14/30\n",
            "2500/2500 [==============================] - 5s 2ms/step - loss: 0.9279 - accuracy: 0.7127 - val_loss: 0.9465 - val_accuracy: 0.6984\n",
            "Epoch 15/30\n",
            "2500/2500 [==============================] - 5s 2ms/step - loss: 0.9241 - accuracy: 0.7185 - val_loss: 0.9124 - val_accuracy: 0.7161\n",
            "Epoch 16/30\n",
            "2500/2500 [==============================] - 5s 2ms/step - loss: 0.9161 - accuracy: 0.7206 - val_loss: 0.9074 - val_accuracy: 0.7265\n",
            "Epoch 17/30\n",
            "2500/2500 [==============================] - 5s 2ms/step - loss: 0.9183 - accuracy: 0.7199 - val_loss: 0.9115 - val_accuracy: 0.7152\n",
            "Epoch 18/30\n",
            "2500/2500 [==============================] - 5s 2ms/step - loss: 0.9162 - accuracy: 0.7154 - val_loss: 0.9083 - val_accuracy: 0.7182\n",
            "Epoch 19/30\n",
            "2500/2500 [==============================] - 6s 2ms/step - loss: 0.9020 - accuracy: 0.7225 - val_loss: 0.9021 - val_accuracy: 0.7196\n",
            "Epoch 20/30\n",
            "2500/2500 [==============================] - 6s 2ms/step - loss: 0.9164 - accuracy: 0.7189 - val_loss: 0.9244 - val_accuracy: 0.7113\n",
            "Epoch 21/30\n",
            "2500/2500 [==============================] - 5s 2ms/step - loss: 0.8975 - accuracy: 0.7264 - val_loss: 0.9067 - val_accuracy: 0.7248\n",
            "Epoch 22/30\n",
            "2500/2500 [==============================] - 5s 2ms/step - loss: 0.9040 - accuracy: 0.7245 - val_loss: 0.9055 - val_accuracy: 0.7247\n",
            "Epoch 23/30\n",
            "2500/2500 [==============================] - 5s 2ms/step - loss: 0.9056 - accuracy: 0.7253 - val_loss: 0.9010 - val_accuracy: 0.7201\n",
            "Epoch 24/30\n",
            "2500/2500 [==============================] - 5s 2ms/step - loss: 0.8904 - accuracy: 0.7258 - val_loss: 0.8953 - val_accuracy: 0.7250\n",
            "Epoch 25/30\n",
            "2500/2500 [==============================] - 5s 2ms/step - loss: 0.8791 - accuracy: 0.7325 - val_loss: 0.9105 - val_accuracy: 0.7201\n",
            "Epoch 26/30\n",
            "2500/2500 [==============================] - 5s 2ms/step - loss: 0.8947 - accuracy: 0.7273 - val_loss: 0.9127 - val_accuracy: 0.7192\n",
            "Epoch 27/30\n",
            "2500/2500 [==============================] - 5s 2ms/step - loss: 0.8893 - accuracy: 0.7287 - val_loss: 0.8898 - val_accuracy: 0.7219\n",
            "Epoch 28/30\n",
            "2500/2500 [==============================] - 5s 2ms/step - loss: 0.8824 - accuracy: 0.7281 - val_loss: 0.8750 - val_accuracy: 0.7301\n",
            "Epoch 29/30\n",
            "2500/2500 [==============================] - 5s 2ms/step - loss: 0.8756 - accuracy: 0.7304 - val_loss: 0.8886 - val_accuracy: 0.7221\n",
            "Epoch 30/30\n",
            "2500/2500 [==============================] - 5s 2ms/step - loss: 0.8755 - accuracy: 0.7314 - val_loss: 0.8820 - val_accuracy: 0.7260\n"
          ],
          "name": "stdout"
        }
      ]
    },
    {
      "cell_type": "code",
      "metadata": {
        "id": "FIDvZxi2miRc",
        "colab_type": "code",
        "colab": {
          "base_uri": "https://localhost:8080/",
          "height": 1000
        },
        "outputId": "2c346f04-a35b-44d8-fd61-8d203d1b95ee"
      },
      "source": [
        "# \n",
        "adam = Adam(learning_rate = 0.001)\n",
        "\n",
        "# opt_adam: higher LR\n",
        "model = Sequential([\n",
        "                    Dense(20, activation='sigmoid', input_dim=784),\n",
        "                    Dense(15, activation='sigmoid'),\n",
        "                    Dense(10, activation='softmax')\n",
        "])\n",
        "\n",
        "model.compile(optimizer=adam, loss='sparse_categorical_crossentropy', metrics=['accuracy'])\n",
        "\n",
        "opt_adam_1 = model.fit(X,y, epochs=30, validation_split=.2)\n",
        "\n",
        "    \n",
        "# default learning rate: 0.001\n",
        "# low LR = 0.0001 - opt_adam_1\n",
        "# higher LR = 0.01 - opt_adam\n",
        "# default LR = 0.001\n"
      ],
      "execution_count": 41,
      "outputs": [
        {
          "output_type": "stream",
          "text": [
            "Epoch 1/30\n",
            "2500/2500 [==============================] - 6s 2ms/step - loss: 1.5246 - accuracy: 0.5179 - val_loss: 1.2281 - val_accuracy: 0.6144\n",
            "Epoch 2/30\n",
            "2500/2500 [==============================] - 6s 2ms/step - loss: 1.1222 - accuracy: 0.6453 - val_loss: 1.0612 - val_accuracy: 0.6654\n",
            "Epoch 3/30\n",
            "2500/2500 [==============================] - 6s 2ms/step - loss: 1.0187 - accuracy: 0.6749 - val_loss: 0.9627 - val_accuracy: 0.6985\n",
            "Epoch 4/30\n",
            "2500/2500 [==============================] - 5s 2ms/step - loss: 0.9725 - accuracy: 0.6926 - val_loss: 0.9651 - val_accuracy: 0.6934\n",
            "Epoch 5/30\n",
            "2500/2500 [==============================] - 5s 2ms/step - loss: 0.9486 - accuracy: 0.7018 - val_loss: 0.9330 - val_accuracy: 0.7070\n",
            "Epoch 6/30\n",
            "2500/2500 [==============================] - 5s 2ms/step - loss: 0.9157 - accuracy: 0.7134 - val_loss: 0.9192 - val_accuracy: 0.7127\n",
            "Epoch 7/30\n",
            "2500/2500 [==============================] - 5s 2ms/step - loss: 0.9136 - accuracy: 0.7118 - val_loss: 0.9104 - val_accuracy: 0.7111\n",
            "Epoch 8/30\n",
            "2500/2500 [==============================] - 6s 2ms/step - loss: 0.9030 - accuracy: 0.7152 - val_loss: 0.9329 - val_accuracy: 0.7028\n",
            "Epoch 9/30\n",
            "2500/2500 [==============================] - 5s 2ms/step - loss: 0.9002 - accuracy: 0.7158 - val_loss: 0.8975 - val_accuracy: 0.7171\n",
            "Epoch 10/30\n",
            "2500/2500 [==============================] - 5s 2ms/step - loss: 0.8790 - accuracy: 0.7232 - val_loss: 0.9006 - val_accuracy: 0.7164\n",
            "Epoch 11/30\n",
            "2500/2500 [==============================] - 5s 2ms/step - loss: 0.8955 - accuracy: 0.7191 - val_loss: 0.9050 - val_accuracy: 0.7193\n",
            "Epoch 12/30\n",
            "2500/2500 [==============================] - 5s 2ms/step - loss: 0.8590 - accuracy: 0.7317 - val_loss: 0.8656 - val_accuracy: 0.7350\n",
            "Epoch 13/30\n",
            "2500/2500 [==============================] - 5s 2ms/step - loss: 0.8699 - accuracy: 0.7308 - val_loss: 0.8619 - val_accuracy: 0.7314\n",
            "Epoch 14/30\n",
            "2500/2500 [==============================] - 5s 2ms/step - loss: 0.8432 - accuracy: 0.7401 - val_loss: 0.8433 - val_accuracy: 0.7424\n",
            "Epoch 15/30\n",
            "2500/2500 [==============================] - 5s 2ms/step - loss: 0.8484 - accuracy: 0.7379 - val_loss: 0.8807 - val_accuracy: 0.7265\n",
            "Epoch 16/30\n",
            "2500/2500 [==============================] - 5s 2ms/step - loss: 0.8438 - accuracy: 0.7378 - val_loss: 0.8530 - val_accuracy: 0.7351\n",
            "Epoch 17/30\n",
            "2500/2500 [==============================] - 5s 2ms/step - loss: 0.8435 - accuracy: 0.7345 - val_loss: 0.8313 - val_accuracy: 0.7424\n",
            "Epoch 18/30\n",
            "2500/2500 [==============================] - 5s 2ms/step - loss: 0.8276 - accuracy: 0.7412 - val_loss: 0.8311 - val_accuracy: 0.7380\n",
            "Epoch 19/30\n",
            "2500/2500 [==============================] - 5s 2ms/step - loss: 0.8290 - accuracy: 0.7399 - val_loss: 0.8504 - val_accuracy: 0.7276\n",
            "Epoch 20/30\n",
            "2500/2500 [==============================] - 5s 2ms/step - loss: 0.8249 - accuracy: 0.7425 - val_loss: 0.8191 - val_accuracy: 0.7467\n",
            "Epoch 21/30\n",
            "2500/2500 [==============================] - 5s 2ms/step - loss: 0.8096 - accuracy: 0.7480 - val_loss: 0.8259 - val_accuracy: 0.7381\n",
            "Epoch 22/30\n",
            "2500/2500 [==============================] - 6s 2ms/step - loss: 0.8173 - accuracy: 0.7434 - val_loss: 0.8353 - val_accuracy: 0.7340\n",
            "Epoch 23/30\n",
            "2500/2500 [==============================] - 6s 2ms/step - loss: 0.8159 - accuracy: 0.7441 - val_loss: 0.8321 - val_accuracy: 0.7389\n",
            "Epoch 24/30\n",
            "2500/2500 [==============================] - 5s 2ms/step - loss: 0.8160 - accuracy: 0.7461 - val_loss: 0.8323 - val_accuracy: 0.7369\n",
            "Epoch 25/30\n",
            "2500/2500 [==============================] - 5s 2ms/step - loss: 0.8111 - accuracy: 0.7465 - val_loss: 0.8250 - val_accuracy: 0.7416\n",
            "Epoch 26/30\n",
            "2500/2500 [==============================] - 5s 2ms/step - loss: 0.8073 - accuracy: 0.7476 - val_loss: 0.8123 - val_accuracy: 0.7444\n",
            "Epoch 27/30\n",
            "2500/2500 [==============================] - 6s 2ms/step - loss: 0.8064 - accuracy: 0.7461 - val_loss: 0.8160 - val_accuracy: 0.7415\n",
            "Epoch 28/30\n",
            "2500/2500 [==============================] - 5s 2ms/step - loss: 0.8072 - accuracy: 0.7471 - val_loss: 0.8404 - val_accuracy: 0.7408\n",
            "Epoch 29/30\n",
            "2500/2500 [==============================] - 5s 2ms/step - loss: 0.8144 - accuracy: 0.7467 - val_loss: 0.8060 - val_accuracy: 0.7480\n",
            "Epoch 30/30\n",
            "2500/2500 [==============================] - 5s 2ms/step - loss: 0.8110 - accuracy: 0.7476 - val_loss: 0.8137 - val_accuracy: 0.7450\n"
          ],
          "name": "stdout"
        }
      ]
    },
    {
      "cell_type": "code",
      "metadata": {
        "id": "DARrHWaGnMDD",
        "colab_type": "code",
        "colab": {
          "base_uri": "https://localhost:8080/",
          "height": 992
        },
        "outputId": "20f73159-20c3-4abb-a0ad-74a2d76d20d3"
      },
      "source": [
        "# \n",
        "adam = Adam(learning_rate = 0.001)\n",
        "\n",
        "# opt_adam: higher LR\n",
        "model = Sequential([\n",
        "                    Dense(30, activation='sigmoid', input_dim=784),\n",
        "                    Dense(20, activation='sigmoid'),\n",
        "                    Dense(10, activation='softmax')\n",
        "])\n",
        "\n",
        "model.compile(optimizer=adam, loss='sparse_categorical_crossentropy', metrics=['accuracy'])\n",
        "\n",
        "opt_adam_1 = model.fit(X,y, epochs=30, validation_split=.2)\n",
        "\n",
        "    \n",
        "# default learning rate: 0.001\n",
        "# low LR = 0.0001 - opt_adam_1\n",
        "# higher LR = 0.01 - opt_adam\n",
        "# default LR = 0.001\n"
      ],
      "execution_count": 42,
      "outputs": [
        {
          "output_type": "stream",
          "text": [
            "Epoch 1/30\n",
            "2500/2500 [==============================] - 6s 2ms/step - loss: 1.3780 - accuracy: 0.5796 - val_loss: 1.0538 - val_accuracy: 0.6719\n",
            "Epoch 2/30\n",
            "2500/2500 [==============================] - 6s 2ms/step - loss: 1.0163 - accuracy: 0.6787 - val_loss: 0.9842 - val_accuracy: 0.6893\n",
            "Epoch 3/30\n",
            "2500/2500 [==============================] - 5s 2ms/step - loss: 0.9681 - accuracy: 0.6918 - val_loss: 0.9429 - val_accuracy: 0.7016\n",
            "Epoch 4/30\n",
            "2500/2500 [==============================] - 5s 2ms/step - loss: 0.9363 - accuracy: 0.7061 - val_loss: 0.8980 - val_accuracy: 0.7210\n",
            "Epoch 5/30\n",
            "2500/2500 [==============================] - 5s 2ms/step - loss: 0.9009 - accuracy: 0.7181 - val_loss: 0.8859 - val_accuracy: 0.7253\n",
            "Epoch 6/30\n",
            "2500/2500 [==============================] - 5s 2ms/step - loss: 0.8841 - accuracy: 0.7229 - val_loss: 0.8663 - val_accuracy: 0.7243\n",
            "Epoch 7/30\n",
            "2500/2500 [==============================] - 5s 2ms/step - loss: 0.8760 - accuracy: 0.7278 - val_loss: 0.8854 - val_accuracy: 0.7191\n",
            "Epoch 8/30\n",
            "2500/2500 [==============================] - 6s 2ms/step - loss: 0.8734 - accuracy: 0.7265 - val_loss: 0.8810 - val_accuracy: 0.7204\n",
            "Epoch 9/30\n",
            "2500/2500 [==============================] - 5s 2ms/step - loss: 0.8671 - accuracy: 0.7279 - val_loss: 0.8430 - val_accuracy: 0.7415\n",
            "Epoch 10/30\n",
            "2500/2500 [==============================] - 5s 2ms/step - loss: 0.8550 - accuracy: 0.7331 - val_loss: 0.8546 - val_accuracy: 0.7310\n",
            "Epoch 11/30\n",
            "2500/2500 [==============================] - 5s 2ms/step - loss: 0.8304 - accuracy: 0.7404 - val_loss: 0.8422 - val_accuracy: 0.7368\n",
            "Epoch 12/30\n",
            "2500/2500 [==============================] - 5s 2ms/step - loss: 0.8193 - accuracy: 0.7458 - val_loss: 0.8238 - val_accuracy: 0.7420\n",
            "Epoch 13/30\n",
            "2500/2500 [==============================] - 5s 2ms/step - loss: 0.8104 - accuracy: 0.7484 - val_loss: 0.8081 - val_accuracy: 0.7444\n",
            "Epoch 14/30\n",
            "2500/2500 [==============================] - 5s 2ms/step - loss: 0.8063 - accuracy: 0.7500 - val_loss: 0.7949 - val_accuracy: 0.7516\n",
            "Epoch 15/30\n",
            "2500/2500 [==============================] - 5s 2ms/step - loss: 0.8017 - accuracy: 0.7496 - val_loss: 0.8029 - val_accuracy: 0.7497\n",
            "Epoch 16/30\n",
            "2500/2500 [==============================] - 5s 2ms/step - loss: 0.8052 - accuracy: 0.7490 - val_loss: 0.8239 - val_accuracy: 0.7420\n",
            "Epoch 17/30\n",
            "2500/2500 [==============================] - 5s 2ms/step - loss: 0.8000 - accuracy: 0.7498 - val_loss: 0.8035 - val_accuracy: 0.7456\n",
            "Epoch 18/30\n",
            "2500/2500 [==============================] - 5s 2ms/step - loss: 0.8031 - accuracy: 0.7488 - val_loss: 0.8193 - val_accuracy: 0.7440\n",
            "Epoch 19/30\n",
            "2500/2500 [==============================] - 5s 2ms/step - loss: 0.8041 - accuracy: 0.7489 - val_loss: 0.8105 - val_accuracy: 0.7440\n",
            "Epoch 20/30\n",
            "2500/2500 [==============================] - 6s 2ms/step - loss: 0.7813 - accuracy: 0.7576 - val_loss: 0.7709 - val_accuracy: 0.7596\n",
            "Epoch 21/30\n",
            "2500/2500 [==============================] - 6s 2ms/step - loss: 0.7674 - accuracy: 0.7633 - val_loss: 0.7868 - val_accuracy: 0.7524\n",
            "Epoch 22/30\n",
            "2500/2500 [==============================] - 5s 2ms/step - loss: 0.7749 - accuracy: 0.7591 - val_loss: 0.7681 - val_accuracy: 0.7612\n",
            "Epoch 23/30\n",
            "2500/2500 [==============================] - 6s 2ms/step - loss: 0.7691 - accuracy: 0.7610 - val_loss: 0.7719 - val_accuracy: 0.7578\n",
            "Epoch 24/30\n",
            "2500/2500 [==============================] - 6s 2ms/step - loss: 0.7670 - accuracy: 0.7589 - val_loss: 0.7714 - val_accuracy: 0.7591\n",
            "Epoch 25/30\n",
            "2500/2500 [==============================] - 5s 2ms/step - loss: 0.7644 - accuracy: 0.7619 - val_loss: 0.7759 - val_accuracy: 0.7584\n",
            "Epoch 26/30\n",
            "2500/2500 [==============================] - 5s 2ms/step - loss: 0.7746 - accuracy: 0.7583 - val_loss: 0.7802 - val_accuracy: 0.7594\n",
            "Epoch 27/30\n",
            "2500/2500 [==============================] - 5s 2ms/step - loss: 0.7609 - accuracy: 0.7638 - val_loss: 0.7639 - val_accuracy: 0.7618\n",
            "Epoch 28/30\n",
            "2500/2500 [==============================] - 5s 2ms/step - loss: 0.7674 - accuracy: 0.7587 - val_loss: 0.7629 - val_accuracy: 0.7580\n",
            "Epoch 29/30\n",
            "2500/2500 [==============================] - 5s 2ms/step - loss: 0.7630 - accuracy: 0.7614 - val_loss: 0.7781 - val_accuracy: 0.7566\n",
            "Epoch 30/30\n",
            "2500/2500 [==============================] - 6s 2ms/step - loss: 0.7595 - accuracy: 0.7621 - val_loss: 0.7709 - val_accuracy: 0.7570\n"
          ],
          "name": "stdout"
        }
      ]
    },
    {
      "cell_type": "code",
      "metadata": {
        "id": "STqqE88PoBfH",
        "colab_type": "code",
        "colab": {
          "base_uri": "https://localhost:8080/",
          "height": 992
        },
        "outputId": "d3e82bb0-1cf9-4ee9-d5e2-989cd7608d8f"
      },
      "source": [
        "# \n",
        "adam = Adam(learning_rate = 0.001)\n",
        "\n",
        "# opt_adam: higher LR\n",
        "model = Sequential([\n",
        "                    Dense(30, activation='sigmoid', input_dim=784),\n",
        "                    Dense(20, activation='sigmoid'),\n",
        "                    Dense(20, activation='sigmoid'),\n",
        "                    Dense(10, activation='softmax')\n",
        "])\n",
        "\n",
        "model.compile(optimizer=adam, loss='sparse_categorical_crossentropy', metrics=['accuracy'])\n",
        "\n",
        "opt_adam_1 = model.nnfit(X,y, epochs=30, validation_split=.2)\n",
        "\n",
        "    \n",
        "# default learning rate: 0.001\n",
        "# low LR = 0.0001 - opt_adam_1\n",
        "# higher LR = 0.01 - opt_adam\n",
        "# default LR = 0.001\n"
      ],
      "execution_count": 43,
      "outputs": [
        {
          "output_type": "stream",
          "text": [
            "Epoch 1/30\n",
            "2500/2500 [==============================] - 6s 2ms/step - loss: 1.5489 - accuracy: 0.4579 - val_loss: 1.3212 - val_accuracy: 0.5319\n",
            "Epoch 2/30\n",
            "2500/2500 [==============================] - 6s 2ms/step - loss: 1.2503 - accuracy: 0.5691 - val_loss: 1.1597 - val_accuracy: 0.6181\n",
            "Epoch 3/30\n",
            "2500/2500 [==============================] - 6s 2ms/step - loss: 1.1000 - accuracy: 0.6439 - val_loss: 1.0310 - val_accuracy: 0.6744\n",
            "Epoch 4/30\n",
            "2500/2500 [==============================] - 6s 2ms/step - loss: 1.0197 - accuracy: 0.6755 - val_loss: 1.0143 - val_accuracy: 0.6636\n",
            "Epoch 5/30\n",
            "2500/2500 [==============================] - 6s 2ms/step - loss: 0.9765 - accuracy: 0.6874 - val_loss: 0.9420 - val_accuracy: 0.7018\n",
            "Epoch 6/30\n",
            "2500/2500 [==============================] - 6s 2ms/step - loss: 0.9317 - accuracy: 0.7040 - val_loss: 0.9097 - val_accuracy: 0.7095\n",
            "Epoch 7/30\n",
            "2500/2500 [==============================] - 6s 2ms/step - loss: 0.9181 - accuracy: 0.7078 - val_loss: 0.9326 - val_accuracy: 0.7043\n",
            "Epoch 8/30\n",
            "2500/2500 [==============================] - 6s 2ms/step - loss: 0.8962 - accuracy: 0.7191 - val_loss: 0.8825 - val_accuracy: 0.7223\n",
            "Epoch 9/30\n",
            "2500/2500 [==============================] - 6s 2ms/step - loss: 0.8727 - accuracy: 0.7246 - val_loss: 0.8564 - val_accuracy: 0.7278\n",
            "Epoch 10/30\n",
            "2500/2500 [==============================] - 6s 2ms/step - loss: 0.8626 - accuracy: 0.7281 - val_loss: 0.8532 - val_accuracy: 0.7300\n",
            "Epoch 11/30\n",
            "2500/2500 [==============================] - 6s 2ms/step - loss: 0.8445 - accuracy: 0.7340 - val_loss: 0.8421 - val_accuracy: 0.7406\n",
            "Epoch 12/30\n",
            "2500/2500 [==============================] - 6s 2ms/step - loss: 0.8514 - accuracy: 0.7350 - val_loss: 0.8526 - val_accuracy: 0.7339\n",
            "Epoch 13/30\n",
            "2500/2500 [==============================] - 6s 2ms/step - loss: 0.8419 - accuracy: 0.7373 - val_loss: 0.8453 - val_accuracy: 0.7351\n",
            "Epoch 14/30\n",
            "2500/2500 [==============================] - 6s 2ms/step - loss: 0.8243 - accuracy: 0.7429 - val_loss: 0.8390 - val_accuracy: 0.7345\n",
            "Epoch 15/30\n",
            "2500/2500 [==============================] - 6s 2ms/step - loss: 0.8166 - accuracy: 0.7405 - val_loss: 0.8126 - val_accuracy: 0.7434\n",
            "Epoch 16/30\n",
            "2500/2500 [==============================] - 6s 2ms/step - loss: 0.8113 - accuracy: 0.7442 - val_loss: 0.8288 - val_accuracy: 0.7359\n",
            "Epoch 17/30\n",
            "2500/2500 [==============================] - 6s 2ms/step - loss: 0.8115 - accuracy: 0.7415 - val_loss: 0.8350 - val_accuracy: 0.7325\n",
            "Epoch 18/30\n",
            "2500/2500 [==============================] - 6s 2ms/step - loss: 0.8133 - accuracy: 0.7420 - val_loss: 0.8342 - val_accuracy: 0.7369\n",
            "Epoch 19/30\n",
            "2500/2500 [==============================] - 6s 2ms/step - loss: 0.8121 - accuracy: 0.7447 - val_loss: 0.8045 - val_accuracy: 0.7487\n",
            "Epoch 20/30\n",
            "2500/2500 [==============================] - 6s 2ms/step - loss: 0.8000 - accuracy: 0.7486 - val_loss: 0.8037 - val_accuracy: 0.7466\n",
            "Epoch 21/30\n",
            "2500/2500 [==============================] - 6s 2ms/step - loss: 0.7929 - accuracy: 0.7520 - val_loss: 0.7906 - val_accuracy: 0.7469\n",
            "Epoch 22/30\n",
            "2500/2500 [==============================] - 6s 2ms/step - loss: 0.7770 - accuracy: 0.7540 - val_loss: 0.7878 - val_accuracy: 0.7501\n",
            "Epoch 23/30\n",
            "2500/2500 [==============================] - 6s 2ms/step - loss: 0.7810 - accuracy: 0.7550 - val_loss: 0.7854 - val_accuracy: 0.7515\n",
            "Epoch 24/30\n",
            "2500/2500 [==============================] - 6s 2ms/step - loss: 0.7777 - accuracy: 0.7555 - val_loss: 0.7841 - val_accuracy: 0.7522\n",
            "Epoch 25/30\n",
            "2500/2500 [==============================] - 6s 2ms/step - loss: 0.7647 - accuracy: 0.7583 - val_loss: 0.7688 - val_accuracy: 0.7570\n",
            "Epoch 26/30\n",
            "2500/2500 [==============================] - 6s 2ms/step - loss: 0.7636 - accuracy: 0.7602 - val_loss: 0.7719 - val_accuracy: 0.7545\n",
            "Epoch 27/30\n",
            "2500/2500 [==============================] - 6s 2ms/step - loss: 0.7557 - accuracy: 0.7623 - val_loss: 0.7670 - val_accuracy: 0.7602\n",
            "Epoch 28/30\n",
            "2500/2500 [==============================] - 6s 2ms/step - loss: 0.7511 - accuracy: 0.7645 - val_loss: 0.7701 - val_accuracy: 0.7584\n",
            "Epoch 29/30\n",
            "2500/2500 [==============================] - 6s 2ms/step - loss: 0.7489 - accuracy: 0.7648 - val_loss: 0.7599 - val_accuracy: 0.7593\n",
            "Epoch 30/30\n",
            "2500/2500 [==============================] - 6s 2ms/step - loss: 0.7499 - accuracy: 0.7637 - val_loss: 0.7641 - val_accuracy: 0.7578\n"
          ],
          "name": "stdout"
        }
      ]
    },
    {
      "cell_type": "code",
      "metadata": {
        "id": "KFOxUteTTke-",
        "colab_type": "code",
        "colab": {
          "base_uri": "https://localhost:8080/",
          "height": 1000
        },
        "outputId": "8b06b8a0-2936-4938-e2ec-b0bf881cb2e7"
      },
      "source": [
        "# opt_adam_2\n",
        "adam = Adam(learning_rate = 0.1)\n",
        "\n",
        "# opt_adam: higher LR\n",
        "model = Sequential([\n",
        "                    Dense(5, activation='sigmoid', input_dim=784),\n",
        "                    Dense(5, activation='sigmoid'), \n",
        "                    Dense(10, activation='softmax')\n",
        "])\n",
        "\n",
        "model.compile(optimizer=adam, loss='sparse_categorical_crossentropy', metrics=['accuracy'])\n",
        "\n",
        "opt_adam_2 = model.fit(X,y, epochs=30, validation_split=.2, shuffle=True)\n",
        "\n",
        "    \n",
        "# default learning rate: 0.001\n",
        "# low LR = 0.0001 - opt_adam_1\n",
        "# higher LR = 0.01 - opt_adam\n",
        "# higher LR = 0.1 - opt_adam_2\n",
        "# default LR = 0.001\n"
      ],
      "execution_count": 30,
      "outputs": [
        {
          "output_type": "stream",
          "text": [
            "Epoch 1/30\n",
            "2500/2500 [==============================] - 5s 2ms/step - loss: 2.0532 - accuracy: 0.1465 - val_loss: 11.6315 - val_accuracy: 0.0000e+00\n",
            "Epoch 2/30\n",
            "2500/2500 [==============================] - 5s 2ms/step - loss: 2.0256 - accuracy: 0.1571 - val_loss: 14.2103 - val_accuracy: 0.0000e+00\n",
            "Epoch 3/30\n",
            "2500/2500 [==============================] - 5s 2ms/step - loss: 1.8724 - accuracy: 0.2365 - val_loss: 15.3087 - val_accuracy: 0.0000e+00\n",
            "Epoch 4/30\n",
            "2500/2500 [==============================] - 5s 2ms/step - loss: 1.9301 - accuracy: 0.2036 - val_loss: 16.6959 - val_accuracy: 0.0000e+00\n",
            "Epoch 5/30\n",
            "2500/2500 [==============================] - 5s 2ms/step - loss: 1.8586 - accuracy: 0.2296 - val_loss: 17.9941 - val_accuracy: 0.0000e+00\n",
            "Epoch 6/30\n",
            "2500/2500 [==============================] - 5s 2ms/step - loss: 1.8503 - accuracy: 0.2384 - val_loss: 19.3620 - val_accuracy: 0.0000e+00\n",
            "Epoch 7/30\n",
            "2500/2500 [==============================] - 5s 2ms/step - loss: 1.8510 - accuracy: 0.2353 - val_loss: 20.9761 - val_accuracy: 0.0000e+00\n",
            "Epoch 8/30\n",
            "2500/2500 [==============================] - 6s 2ms/step - loss: 1.8750 - accuracy: 0.2192 - val_loss: 22.0545 - val_accuracy: 0.0000e+00\n",
            "Epoch 9/30\n",
            "2500/2500 [==============================] - 5s 2ms/step - loss: 1.8722 - accuracy: 0.2198 - val_loss: 22.8579 - val_accuracy: 0.0000e+00\n",
            "Epoch 10/30\n",
            "2500/2500 [==============================] - 5s 2ms/step - loss: 1.8724 - accuracy: 0.2190 - val_loss: 23.8028 - val_accuracy: 0.0000e+00\n",
            "Epoch 11/30\n",
            "2500/2500 [==============================] - 5s 2ms/step - loss: 1.8723 - accuracy: 0.2212 - val_loss: 24.2545 - val_accuracy: 0.0000e+00\n",
            "Epoch 12/30\n",
            "2500/2500 [==============================] - 5s 2ms/step - loss: 1.8897 - accuracy: 0.2155 - val_loss: 24.6504 - val_accuracy: 0.0000e+00\n",
            "Epoch 13/30\n",
            "2500/2500 [==============================] - 5s 2ms/step - loss: 1.8805 - accuracy: 0.2184 - val_loss: 24.9519 - val_accuracy: 0.0000e+00\n",
            "Epoch 14/30\n",
            "2500/2500 [==============================] - 5s 2ms/step - loss: 1.8554 - accuracy: 0.2291 - val_loss: 25.1950 - val_accuracy: 0.0000e+00\n",
            "Epoch 15/30\n",
            "2500/2500 [==============================] - 5s 2ms/step - loss: 1.8443 - accuracy: 0.2336 - val_loss: 25.2626 - val_accuracy: 0.0000e+00\n",
            "Epoch 16/30\n",
            "2500/2500 [==============================] - 5s 2ms/step - loss: 1.8432 - accuracy: 0.2354 - val_loss: 25.5088 - val_accuracy: 0.0000e+00\n",
            "Epoch 17/30\n",
            "2500/2500 [==============================] - 5s 2ms/step - loss: 1.8434 - accuracy: 0.2349 - val_loss: 25.5291 - val_accuracy: 0.0000e+00\n",
            "Epoch 18/30\n",
            "2500/2500 [==============================] - 5s 2ms/step - loss: 1.8540 - accuracy: 0.2275 - val_loss: 25.3507 - val_accuracy: 0.0000e+00\n",
            "Epoch 19/30\n",
            "2500/2500 [==============================] - 5s 2ms/step - loss: 1.8594 - accuracy: 0.2252 - val_loss: 25.4658 - val_accuracy: 0.0000e+00\n",
            "Epoch 20/30\n",
            "2500/2500 [==============================] - 5s 2ms/step - loss: 1.8534 - accuracy: 0.2283 - val_loss: 25.7328 - val_accuracy: 0.0000e+00\n",
            "Epoch 21/30\n",
            "2500/2500 [==============================] - 5s 2ms/step - loss: 1.8476 - accuracy: 0.2340 - val_loss: 25.6845 - val_accuracy: 0.0000e+00\n",
            "Epoch 22/30\n",
            "2500/2500 [==============================] - 5s 2ms/step - loss: 1.8474 - accuracy: 0.2359 - val_loss: 26.0002 - val_accuracy: 0.0000e+00\n",
            "Epoch 23/30\n",
            "2500/2500 [==============================] - 5s 2ms/step - loss: 1.8548 - accuracy: 0.2332 - val_loss: 25.6214 - val_accuracy: 0.0000e+00\n",
            "Epoch 24/30\n",
            "2500/2500 [==============================] - 5s 2ms/step - loss: 1.8654 - accuracy: 0.2231 - val_loss: 25.3707 - val_accuracy: 0.0000e+00\n",
            "Epoch 25/30\n",
            "2500/2500 [==============================] - 5s 2ms/step - loss: 1.8542 - accuracy: 0.2296 - val_loss: 26.0596 - val_accuracy: 0.0000e+00\n",
            "Epoch 26/30\n",
            "2500/2500 [==============================] - 5s 2ms/step - loss: 1.8429 - accuracy: 0.2386 - val_loss: 26.0856 - val_accuracy: 0.0000e+00\n",
            "Epoch 27/30\n",
            "2500/2500 [==============================] - 5s 2ms/step - loss: 1.8400 - accuracy: 0.2369 - val_loss: 26.1708 - val_accuracy: 0.0000e+00\n",
            "Epoch 28/30\n",
            "2500/2500 [==============================] - 5s 2ms/step - loss: 1.8400 - accuracy: 0.2352 - val_loss: 26.1906 - val_accuracy: 0.0000e+00\n",
            "Epoch 29/30\n",
            "2500/2500 [==============================] - 5s 2ms/step - loss: 1.8403 - accuracy: 0.2353 - val_loss: 26.3311 - val_accuracy: 0.0000e+00\n",
            "Epoch 30/30\n",
            "2500/2500 [==============================] - 5s 2ms/step - loss: 1.8431 - accuracy: 0.2381 - val_loss: 26.4935 - val_accuracy: 0.0000e+00\n"
          ],
          "name": "stdout"
        }
      ]
    },
    {
      "cell_type": "code",
      "metadata": {
        "id": "NWjenJqeVzOe",
        "colab_type": "code",
        "colab": {
          "base_uri": "https://localhost:8080/",
          "height": 1000
        },
        "outputId": "2b4e74d1-717d-4770-c344-0f996b829099"
      },
      "source": [
        "# opt_adam_3\n",
        "adam = Adam(learning_rate = 0.0009)\n",
        "\n",
        "# opt_adam: higher LR\n",
        "model = Sequential([\n",
        "                    Dense(5, activation='sigmoid', input_dim=784),\n",
        "                    Dense(5, activation='sigmoid'), \n",
        "                    Dense(10, activation='softmax')\n",
        "])\n",
        "\n",
        "model.compile(optimizer=adam, loss='sparse_categorical_crossentropy', metrics=['accuracy'])\n",
        "\n",
        "opt_adam_2 = model.fit(X,y, epochs=30, validation_split=.2, shuffle=True)\n",
        "\n",
        "    \n",
        "# default learning rate: 0.001\n",
        "# low LR = 0.0001 - opt_adam_1\n",
        "# higher LR = 0.01 - opt_adam\n",
        "# higher LR = 0.1 - opt_adam_2\n",
        "# higher LR = 0.0009 - opt_adam_3\n",
        "\n"
      ],
      "execution_count": 32,
      "outputs": [
        {
          "output_type": "stream",
          "text": [
            "Epoch 1/30\n",
            "2500/2500 [==============================] - 6s 2ms/step - loss: 1.8315 - accuracy: 0.3395 - val_loss: 5.5827 - val_accuracy: 0.0000e+00\n",
            "Epoch 2/30\n",
            "2500/2500 [==============================] - 5s 2ms/step - loss: 1.4695 - accuracy: 0.4315 - val_loss: 7.5044 - val_accuracy: 0.0000e+00\n",
            "Epoch 3/30\n",
            "2500/2500 [==============================] - 5s 2ms/step - loss: 1.3546 - accuracy: 0.4669 - val_loss: 8.7384 - val_accuracy: 0.0000e+00\n",
            "Epoch 4/30\n",
            "2500/2500 [==============================] - 6s 2ms/step - loss: 1.3022 - accuracy: 0.4898 - val_loss: 9.6577 - val_accuracy: 0.0000e+00\n",
            "Epoch 5/30\n",
            "2500/2500 [==============================] - 6s 2ms/step - loss: 1.2941 - accuracy: 0.5015 - val_loss: 11.2792 - val_accuracy: 0.0000e+00\n",
            "Epoch 6/30\n",
            "2500/2500 [==============================] - 5s 2ms/step - loss: 1.2829 - accuracy: 0.5111 - val_loss: 11.9895 - val_accuracy: 0.0000e+00\n",
            "Epoch 7/30\n",
            "2500/2500 [==============================] - 5s 2ms/step - loss: 1.2670 - accuracy: 0.5117 - val_loss: 13.2801 - val_accuracy: 0.0000e+00\n",
            "Epoch 8/30\n",
            "2500/2500 [==============================] - 5s 2ms/step - loss: 1.2688 - accuracy: 0.5051 - val_loss: 14.5620 - val_accuracy: 0.0000e+00\n",
            "Epoch 9/30\n",
            "2500/2500 [==============================] - 5s 2ms/step - loss: 1.2444 - accuracy: 0.5190 - val_loss: 15.7317 - val_accuracy: 0.0000e+00\n",
            "Epoch 10/30\n",
            "2500/2500 [==============================] - 5s 2ms/step - loss: 1.2232 - accuracy: 0.5323 - val_loss: 16.8842 - val_accuracy: 0.0000e+00\n",
            "Epoch 11/30\n",
            "2500/2500 [==============================] - 5s 2ms/step - loss: 1.2036 - accuracy: 0.5414 - val_loss: 18.2551 - val_accuracy: 0.0000e+00\n",
            "Epoch 12/30\n",
            "2500/2500 [==============================] - 6s 2ms/step - loss: 1.2014 - accuracy: 0.5480 - val_loss: 18.6072 - val_accuracy: 0.0000e+00\n",
            "Epoch 13/30\n",
            "2500/2500 [==============================] - 5s 2ms/step - loss: 1.1892 - accuracy: 0.5530 - val_loss: 19.1028 - val_accuracy: 0.0000e+00\n",
            "Epoch 14/30\n",
            "2500/2500 [==============================] - 5s 2ms/step - loss: 1.1756 - accuracy: 0.5487 - val_loss: 19.3540 - val_accuracy: 0.0000e+00\n",
            "Epoch 15/30\n",
            "2500/2500 [==============================] - 5s 2ms/step - loss: 1.1657 - accuracy: 0.5549 - val_loss: 19.8111 - val_accuracy: 0.0000e+00\n",
            "Epoch 16/30\n",
            "2500/2500 [==============================] - 5s 2ms/step - loss: 1.1516 - accuracy: 0.5526 - val_loss: 20.1917 - val_accuracy: 0.0000e+00\n",
            "Epoch 17/30\n",
            "2500/2500 [==============================] - 6s 2ms/step - loss: 1.1532 - accuracy: 0.5663 - val_loss: 19.9020 - val_accuracy: 0.0000e+00\n",
            "Epoch 18/30\n",
            "2500/2500 [==============================] - 6s 2ms/step - loss: 1.1294 - accuracy: 0.5646 - val_loss: 20.6208 - val_accuracy: 0.0000e+00\n",
            "Epoch 19/30\n",
            "2500/2500 [==============================] - 6s 2ms/step - loss: 1.1401 - accuracy: 0.5705 - val_loss: 21.3076 - val_accuracy: 0.0000e+00\n",
            "Epoch 20/30\n",
            "2500/2500 [==============================] - 5s 2ms/step - loss: 1.1306 - accuracy: 0.5695 - val_loss: 20.8084 - val_accuracy: 0.0000e+00\n",
            "Epoch 21/30\n",
            "2500/2500 [==============================] - 5s 2ms/step - loss: 1.1197 - accuracy: 0.5726 - val_loss: 21.0215 - val_accuracy: 0.0000e+00\n",
            "Epoch 22/30\n",
            "2500/2500 [==============================] - 5s 2ms/step - loss: 1.1314 - accuracy: 0.5707 - val_loss: 21.2256 - val_accuracy: 0.0000e+00\n",
            "Epoch 23/30\n",
            "2500/2500 [==============================] - 5s 2ms/step - loss: 1.1295 - accuracy: 0.5742 - val_loss: 21.2535 - val_accuracy: 0.0000e+00\n",
            "Epoch 24/30\n",
            "2500/2500 [==============================] - 5s 2ms/step - loss: 1.1099 - accuracy: 0.5816 - val_loss: 21.4282 - val_accuracy: 0.0000e+00\n",
            "Epoch 25/30\n",
            "2500/2500 [==============================] - 5s 2ms/step - loss: 1.1079 - accuracy: 0.5775 - val_loss: 21.4195 - val_accuracy: 0.0000e+00\n",
            "Epoch 26/30\n",
            "2500/2500 [==============================] - 5s 2ms/step - loss: 1.1061 - accuracy: 0.5910 - val_loss: 20.8682 - val_accuracy: 0.0000e+00\n",
            "Epoch 27/30\n",
            "2500/2500 [==============================] - 5s 2ms/step - loss: 1.1119 - accuracy: 0.5856 - val_loss: 21.3000 - val_accuracy: 0.0000e+00\n",
            "Epoch 28/30\n",
            "2500/2500 [==============================] - 5s 2ms/step - loss: 1.0909 - accuracy: 0.5868 - val_loss: 21.5734 - val_accuracy: 0.0000e+00\n",
            "Epoch 29/30\n",
            "2500/2500 [==============================] - 5s 2ms/step - loss: 1.0855 - accuracy: 0.5944 - val_loss: 21.6412 - val_accuracy: 0.0000e+00\n",
            "Epoch 30/30\n",
            "2500/2500 [==============================] - 5s 2ms/step - loss: 1.0826 - accuracy: 0.6036 - val_loss: 22.2478 - val_accuracy: 0.0000e+00\n"
          ],
          "name": "stdout"
        }
      ]
    },
    {
      "cell_type": "code",
      "metadata": {
        "id": "dcMegS0WZAAc",
        "colab_type": "code",
        "colab": {
          "base_uri": "https://localhost:8080/",
          "height": 1000
        },
        "outputId": "132e3d6c-5852-4715-d11b-13d06ba4ad5b"
      },
      "source": [
        "# opt_adam_3\n",
        "adam = Adam(learning_rate = 0.002)\n",
        "\n",
        "# opt_adam: higher LR\n",
        "model = Sequential([\n",
        "                    Dense(5, activation='sigmoid', input_dim=784),\n",
        "                    Dense(5, activation='sigmoid'), \n",
        "                    Dense(10, activation='softmax')\n",
        "])\n",
        "\n",
        "model.compile(optimizer=adam, loss='sparse_categorical_crossentropy', metrics=['accuracy'])\n",
        "\n",
        "opt_adam_2 = model.fit(X,y, epochs=30, validation_split=.2, shuffle=True)\n",
        "\n",
        "    \n",
        "# default learning rate: 0.001\n",
        "# low LR = 0.0001 - opt_adam_1\n",
        "# higher LR = 0.01 - opt_adam\n",
        "# higher LR = 0.1 - opt_adam_2\n",
        "# higher LR = 0.0009 - opt_adam_3\n",
        "# higher LR = 0.002 - opt_adam_4\n",
        "\n"
      ],
      "execution_count": 33,
      "outputs": [
        {
          "output_type": "stream",
          "text": [
            "Epoch 1/30\n",
            "2500/2500 [==============================] - 6s 2ms/step - loss: 1.6821 - accuracy: 0.3880 - val_loss: 7.8082 - val_accuracy: 0.0000e+00\n",
            "Epoch 2/30\n",
            "2500/2500 [==============================] - 6s 2ms/step - loss: 1.3819 - accuracy: 0.4919 - val_loss: 9.5937 - val_accuracy: 0.0000e+00\n",
            "Epoch 3/30\n",
            "2500/2500 [==============================] - 6s 2ms/step - loss: 1.2706 - accuracy: 0.5075 - val_loss: 10.7110 - val_accuracy: 0.0000e+00\n",
            "Epoch 4/30\n",
            "2500/2500 [==============================] - 6s 2ms/step - loss: 1.2329 - accuracy: 0.5044 - val_loss: 11.8912 - val_accuracy: 0.0000e+00\n",
            "Epoch 5/30\n",
            "2500/2500 [==============================] - 5s 2ms/step - loss: 1.2187 - accuracy: 0.5295 - val_loss: 13.2343 - val_accuracy: 0.0000e+00\n",
            "Epoch 6/30\n",
            "2500/2500 [==============================] - 6s 2ms/step - loss: 1.1943 - accuracy: 0.5264 - val_loss: 14.4867 - val_accuracy: 0.0000e+00\n",
            "Epoch 7/30\n",
            "2500/2500 [==============================] - 6s 2ms/step - loss: 1.1980 - accuracy: 0.5376 - val_loss: 16.2024 - val_accuracy: 0.0000e+00\n",
            "Epoch 8/30\n",
            "2500/2500 [==============================] - 6s 2ms/step - loss: 1.1924 - accuracy: 0.5230 - val_loss: 17.4201 - val_accuracy: 0.0000e+00\n",
            "Epoch 9/30\n",
            "2500/2500 [==============================] - 6s 2ms/step - loss: 1.1657 - accuracy: 0.5530 - val_loss: 18.7786 - val_accuracy: 0.0000e+00\n",
            "Epoch 10/30\n",
            "2500/2500 [==============================] - 6s 2ms/step - loss: 1.1698 - accuracy: 0.5523 - val_loss: 19.4025 - val_accuracy: 0.0000e+00\n",
            "Epoch 11/30\n",
            "2500/2500 [==============================] - 5s 2ms/step - loss: 1.1561 - accuracy: 0.5710 - val_loss: 19.9318 - val_accuracy: 0.0000e+00\n",
            "Epoch 12/30\n",
            "2500/2500 [==============================] - 6s 2ms/step - loss: 1.1541 - accuracy: 0.5774 - val_loss: 20.8605 - val_accuracy: 0.0000e+00\n",
            "Epoch 13/30\n",
            "2500/2500 [==============================] - 6s 2ms/step - loss: 1.1514 - accuracy: 0.5829 - val_loss: 21.5636 - val_accuracy: 0.0000e+00\n",
            "Epoch 14/30\n",
            "2500/2500 [==============================] - 6s 2ms/step - loss: 1.1466 - accuracy: 0.5803 - val_loss: 20.8531 - val_accuracy: 0.0000e+00\n",
            "Epoch 15/30\n",
            "2500/2500 [==============================] - 6s 2ms/step - loss: 1.1729 - accuracy: 0.5641 - val_loss: 21.2150 - val_accuracy: 0.0000e+00\n",
            "Epoch 16/30\n",
            "2500/2500 [==============================] - 5s 2ms/step - loss: 1.1265 - accuracy: 0.5949 - val_loss: 22.2927 - val_accuracy: 0.0000e+00\n",
            "Epoch 17/30\n",
            "2500/2500 [==============================] - 5s 2ms/step - loss: 1.1243 - accuracy: 0.5937 - val_loss: 22.8840 - val_accuracy: 0.0000e+00\n",
            "Epoch 18/30\n",
            "2500/2500 [==============================] - 6s 2ms/step - loss: 1.1251 - accuracy: 0.5895 - val_loss: 22.1168 - val_accuracy: 0.0000e+00\n",
            "Epoch 19/30\n",
            "2500/2500 [==============================] - 6s 2ms/step - loss: 1.1085 - accuracy: 0.6030 - val_loss: 22.3781 - val_accuracy: 0.0000e+00\n",
            "Epoch 20/30\n",
            "2500/2500 [==============================] - 6s 2ms/step - loss: 1.0871 - accuracy: 0.6112 - val_loss: 22.9713 - val_accuracy: 0.0000e+00\n",
            "Epoch 21/30\n",
            "2500/2500 [==============================] - 6s 2ms/step - loss: 1.0860 - accuracy: 0.6211 - val_loss: 23.1130 - val_accuracy: 0.0000e+00\n",
            "Epoch 22/30\n",
            "2500/2500 [==============================] - 6s 2ms/step - loss: 1.0875 - accuracy: 0.6287 - val_loss: 22.9288 - val_accuracy: 0.0000e+00\n",
            "Epoch 23/30\n",
            "2500/2500 [==============================] - 6s 2ms/step - loss: 1.0688 - accuracy: 0.6330 - val_loss: 23.1861 - val_accuracy: 0.0000e+00\n",
            "Epoch 24/30\n",
            "2500/2500 [==============================] - 6s 2ms/step - loss: 1.0745 - accuracy: 0.6234 - val_loss: 23.2599 - val_accuracy: 0.0000e+00\n",
            "Epoch 25/30\n",
            "2500/2500 [==============================] - 6s 2ms/step - loss: 1.0529 - accuracy: 0.6312 - val_loss: 23.1088 - val_accuracy: 0.0000e+00\n",
            "Epoch 26/30\n",
            "2500/2500 [==============================] - 5s 2ms/step - loss: 1.0456 - accuracy: 0.6370 - val_loss: 23.2674 - val_accuracy: 0.0000e+00\n",
            "Epoch 27/30\n",
            "2500/2500 [==============================] - 5s 2ms/step - loss: 1.0393 - accuracy: 0.6404 - val_loss: 22.8911 - val_accuracy: 0.0000e+00\n",
            "Epoch 28/30\n",
            "2500/2500 [==============================] - 5s 2ms/step - loss: 1.0455 - accuracy: 0.6395 - val_loss: 22.8858 - val_accuracy: 0.0000e+00\n",
            "Epoch 29/30\n",
            "2500/2500 [==============================] - 6s 2ms/step - loss: 1.0484 - accuracy: 0.6437 - val_loss: 22.8753 - val_accuracy: 0.0000e+00\n",
            "Epoch 30/30\n",
            "2500/2500 [==============================] - 5s 2ms/step - loss: 1.0510 - accuracy: 0.6417 - val_loss: 22.5614 - val_accuracy: 0.0000e+00\n"
          ],
          "name": "stdout"
        }
      ]
    },
    {
      "cell_type": "code",
      "metadata": {
        "id": "etQwDkVFfojE",
        "colab_type": "code",
        "colab": {
          "base_uri": "https://localhost:8080/",
          "height": 1000
        },
        "outputId": "e6fcc450-55c4-47c2-ae09-7f1ad6aeafa9"
      },
      "source": [
        "# opt_adam_3\n",
        "adam = Adam(learning_rate = 0.0011)\n",
        "\n",
        "# opt_adam: higher LR\n",
        "model = Sequential([\n",
        "                    Dense(5, activation='sigmoid', input_dim=784),\n",
        "                    Dense(5, activation='sigmoid'), \n",
        "                    Dense(10, activation='softmax')\n",
        "])\n",
        "\n",
        "model.compile(optimizer=adam, loss='sparse_categorical_crossentropy', metrics=['accuracy'])\n",
        "\n",
        "opt_adam_2 = model.fit(X,y, epochs=30, validation_split=.2, shuffle=True)\n",
        "\n",
        "    \n",
        "# default learning rate: 0.001\n",
        "# low LR = 0.0001 - opt_adam_1\n",
        "# higher LR = 0.01 - opt_adam\n",
        "# higher LR = 0.1 - opt_adam_2\n",
        "# higher LR = 0.0009 - opt_adam_3\n",
        "# higher LR = 0.002 - opt_adam_4\n",
        "# higher LR = 0.0011 - opt_adam_5\n",
        "\n"
      ],
      "execution_count": 34,
      "outputs": [
        {
          "output_type": "stream",
          "text": [
            "Epoch 1/30\n",
            "2500/2500 [==============================] - 5s 2ms/step - loss: 1.8076 - accuracy: 0.3506 - val_loss: 6.2999 - val_accuracy: 0.0000e+00\n",
            "Epoch 2/30\n",
            "2500/2500 [==============================] - 5s 2ms/step - loss: 1.4819 - accuracy: 0.4657 - val_loss: 8.3733 - val_accuracy: 0.0000e+00\n",
            "Epoch 3/30\n",
            "2500/2500 [==============================] - 5s 2ms/step - loss: 1.3397 - accuracy: 0.4990 - val_loss: 9.4179 - val_accuracy: 0.0000e+00\n",
            "Epoch 4/30\n",
            "2500/2500 [==============================] - 5s 2ms/step - loss: 1.2866 - accuracy: 0.5299 - val_loss: 10.8773 - val_accuracy: 0.0000e+00\n",
            "Epoch 5/30\n",
            "2500/2500 [==============================] - 5s 2ms/step - loss: 1.2512 - accuracy: 0.5468 - val_loss: 11.9803 - val_accuracy: 0.0000e+00\n",
            "Epoch 6/30\n",
            "2500/2500 [==============================] - 6s 2ms/step - loss: 1.2122 - accuracy: 0.5684 - val_loss: 13.5987 - val_accuracy: 0.0000e+00\n",
            "Epoch 7/30\n",
            "2500/2500 [==============================] - 5s 2ms/step - loss: 1.1809 - accuracy: 0.5961 - val_loss: 14.7170 - val_accuracy: 0.0000e+00\n",
            "Epoch 8/30\n",
            "2500/2500 [==============================] - 5s 2ms/step - loss: 1.1803 - accuracy: 0.5971 - val_loss: 15.8592 - val_accuracy: 0.0000e+00\n",
            "Epoch 9/30\n",
            "2500/2500 [==============================] - 5s 2ms/step - loss: 1.1650 - accuracy: 0.6019 - val_loss: 17.6781 - val_accuracy: 0.0000e+00\n",
            "Epoch 10/30\n",
            "2500/2500 [==============================] - 5s 2ms/step - loss: 1.1438 - accuracy: 0.6153 - val_loss: 18.5319 - val_accuracy: 0.0000e+00\n",
            "Epoch 11/30\n",
            "2500/2500 [==============================] - 5s 2ms/step - loss: 1.1214 - accuracy: 0.6287 - val_loss: 19.5202 - val_accuracy: 0.0000e+00\n",
            "Epoch 12/30\n",
            "2500/2500 [==============================] - 5s 2ms/step - loss: 1.1170 - accuracy: 0.6304 - val_loss: 20.2870 - val_accuracy: 0.0000e+00\n",
            "Epoch 13/30\n",
            "2500/2500 [==============================] - 6s 2ms/step - loss: 1.1054 - accuracy: 0.6309 - val_loss: 20.8099 - val_accuracy: 0.0000e+00\n",
            "Epoch 14/30\n",
            "2500/2500 [==============================] - 6s 2ms/step - loss: 1.1018 - accuracy: 0.6366 - val_loss: 20.5380 - val_accuracy: 0.0000e+00\n",
            "Epoch 15/30\n",
            "2500/2500 [==============================] - 5s 2ms/step - loss: 1.0857 - accuracy: 0.6408 - val_loss: 21.5427 - val_accuracy: 0.0000e+00\n",
            "Epoch 16/30\n",
            "2500/2500 [==============================] - 5s 2ms/step - loss: 1.0709 - accuracy: 0.6471 - val_loss: 20.3062 - val_accuracy: 0.0000e+00\n",
            "Epoch 17/30\n",
            "2500/2500 [==============================] - 5s 2ms/step - loss: 1.0764 - accuracy: 0.6376 - val_loss: 20.7917 - val_accuracy: 0.0000e+00\n",
            "Epoch 18/30\n",
            "2500/2500 [==============================] - 5s 2ms/step - loss: 1.0608 - accuracy: 0.6490 - val_loss: 21.7456 - val_accuracy: 0.0000e+00\n",
            "Epoch 19/30\n",
            "2500/2500 [==============================] - 5s 2ms/step - loss: 1.0706 - accuracy: 0.6356 - val_loss: 21.7068 - val_accuracy: 0.0000e+00\n",
            "Epoch 20/30\n",
            "2500/2500 [==============================] - 5s 2ms/step - loss: 1.0620 - accuracy: 0.6363 - val_loss: 21.7062 - val_accuracy: 0.0000e+00\n",
            "Epoch 21/30\n",
            "2500/2500 [==============================] - 5s 2ms/step - loss: 1.0652 - accuracy: 0.6382 - val_loss: 21.8446 - val_accuracy: 0.0000e+00\n",
            "Epoch 22/30\n",
            "2500/2500 [==============================] - 5s 2ms/step - loss: 1.0546 - accuracy: 0.6488 - val_loss: 22.0511 - val_accuracy: 0.0000e+00\n",
            "Epoch 23/30\n",
            "2500/2500 [==============================] - 5s 2ms/step - loss: 1.0537 - accuracy: 0.6502 - val_loss: 21.3442 - val_accuracy: 0.0000e+00\n",
            "Epoch 24/30\n",
            "2500/2500 [==============================] - 5s 2ms/step - loss: 1.0459 - accuracy: 0.6566 - val_loss: 22.2366 - val_accuracy: 0.0000e+00\n",
            "Epoch 25/30\n",
            "2500/2500 [==============================] - 5s 2ms/step - loss: 1.0419 - accuracy: 0.6546 - val_loss: 22.1501 - val_accuracy: 0.0000e+00\n",
            "Epoch 26/30\n",
            "2500/2500 [==============================] - 5s 2ms/step - loss: 1.0449 - accuracy: 0.6490 - val_loss: 22.6789 - val_accuracy: 0.0000e+00\n",
            "Epoch 27/30\n",
            "2500/2500 [==============================] - 5s 2ms/step - loss: 1.0346 - accuracy: 0.6511 - val_loss: 21.9387 - val_accuracy: 0.0000e+00\n",
            "Epoch 28/30\n",
            "2500/2500 [==============================] - 6s 2ms/step - loss: 1.0433 - accuracy: 0.6442 - val_loss: 22.8326 - val_accuracy: 0.0000e+00\n",
            "Epoch 29/30\n",
            "2500/2500 [==============================] - 6s 2ms/step - loss: 1.0334 - accuracy: 0.6486 - val_loss: 22.4939 - val_accuracy: 0.0000e+00\n",
            "Epoch 30/30\n",
            "2500/2500 [==============================] - 5s 2ms/step - loss: 1.0215 - accuracy: 0.6564 - val_loss: 22.8996 - val_accuracy: 0.0000e+00\n"
          ],
          "name": "stdout"
        }
      ]
    },
    {
      "cell_type": "markdown",
      "metadata": {
        "id": "tUr1Y2DN1VJ-",
        "colab_type": "text"
      },
      "source": [
        "## Save Your Best Performing Model\n",
        "\n",
        "Practice saving the weights and architecture information of your best performing model. Reference the TensorFlow API documentation [here](https://www.tensorflow.org/tutorials/keras/save_and_load#savedmodel_format)."
      ]
    },
    {
      "cell_type": "code",
      "metadata": {
        "id": "JjyJaJ9w1Tu6",
        "colab_type": "code",
        "colab": {}
      },
      "source": [
        "##"
      ],
      "execution_count": null,
      "outputs": []
    },
    {
      "cell_type": "markdown",
      "metadata": {
        "id": "EJrbh3qryi4w",
        "colab_type": "text"
      },
      "source": [
        "### Additional Written Tasks:\n",
        "In this section, you will need to search for resources: \n",
        "1. Investigate the various [loss functions](https://www.tensorflow.org/api_docs/python/tf/keras/losses). Which is best suited for the task at hand (predicting 1 / 0) and why? \n",
        "2. What is the difference between a loss function and a metric? Why might we need both in Keras? \n",
        "3. Investigate the various [optimizers](https://www.tensorflow.org/api_docs/python/tf/keras/optimizers). Stochastic Gradient Descent (`sgd`) is not the learning algorithm dejour anyone. Why is that? What do newer optimizers such as `adam` have to offer? "
      ]
    },
    {
      "cell_type": "markdown",
      "metadata": {
        "id": "Gzs4fd-RynDd",
        "colab_type": "text"
      },
      "source": [
        "## Stretch Goals: \n",
        "\n",
        "- Research convolutional neural networks and try including convolution layers in your network.\n",
        "- Pick two classes and make QuickDraw a binary classification problem, how does your model architecture change?\n",
        "- Implement Cross Validation model evaluation on your Quickdraw implementation \n",
        "\n",
        "Watch some more videos on Gradient Descent:\n",
        "- [Gradient Descent, Step-by-Step](https://www.youtube.com/watch?v=sDv4f4s2SB8)  by StatQuest w/ Josh Starmer. This will help you understand the gradient descent based optimization that happens underneath the hood of neural networks. It uses a non-neural network example, which I believe is a gentler introduction. You will hear me refer to this technique as \"vanilla\" gradient descent. \n",
        "- [Stochastic Gradient Descent, Clearly Explained!!!](https://www.youtube.com/watch?v=vMh0zPT0tLI) by StatQuest w/ Josh Starmer. This builds on the techniques in the previous video.  This technique is the one that is actually implemented inside modern 'nets. \n",
        "- [Siraj Raval the evolution of gradient descent](https://www.youtube.com/watch?v=nhqo0u1a6fw)"
      ]
    },
    {
      "cell_type": "code",
      "metadata": {
        "id": "g649u1eo1R9e",
        "colab_type": "code",
        "colab": {}
      },
      "source": [
        ""
      ],
      "execution_count": null,
      "outputs": []
    },
    {
      "cell_type": "code",
      "metadata": {
        "id": "ue6ZvwoqmYmM",
        "colab_type": "code",
        "colab": {}
      },
      "source": [
        ""
      ],
      "execution_count": null,
      "outputs": []
    }
  ]
}